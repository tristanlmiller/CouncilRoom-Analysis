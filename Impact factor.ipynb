{
 "cells": [
  {
   "cell_type": "markdown",
   "metadata": {},
   "source": [
    "# Calculating impact factor"
   ]
  },
  {
   "cell_type": "markdown",
   "metadata": {},
   "source": [
    "Tristan Miller, 4/28/2018\n",
    "\n",
    "The impact factor of a card is a measure of how much the presence of a card affects the likelihood of gaining other cards.  Specifically, I calculate the sum of the change in the \"gain frequency\" of each other supply pile.  In mathematical terms:\n",
    "\n",
    "$\\mathrm{Impact}(X) = \\sum_Y \\Big | P(\\mathrm{gain}(Y)|\\mathrm{supply}(X)) - P(\\mathrm{gain}(Y))\\Big|$\n",
    "\n",
    "Here, X and Y are supply piles.  gain(Y) refers to the subset of games where Y was gained, and supply(X) refers to the subset of games where X is in the supply.  Since cards can only be gained in games where they are in the supply (ignoring Black Market exceptions), we have the following expressions:\n",
    "\n",
    "$P(\\mathrm{gain}(Y)|\\mathrm{supply}(X)) =$ <font color='red'>$P(\\mathrm{gain}(Y)|\\mathrm{supply}(X) \\& \\mathrm{supply}(Y))$</font> <font color='blue'>$P(\\mathrm{supply}(Y)|\\mathrm{supply}(X))$</font>\n",
    "\n",
    "$P(\\mathrm{gain}(Y)) =$ <font color='red'>$P(\\mathrm{gain}(Y)|\\mathrm{supply}(Y))$</font> <font color='blue'>$P(\\mathrm{supply}(Y))$</font>\n",
    "\n",
    "In each expression, the red term is calculated from the data from the game logs, but the blue term is calculated *a priori*, using standard rules for randomly choosing cards to be in the supply.  The reason for this is that the data coverage is biased towards older cards.\n",
    "\n",
    "I also tried some other things, which could be found in the code.  Rather than calculating the probability that a card was gained, I also looked at the average number of cards gained.  I was less satisfied with this measure.  Another community member inspired the related idea of the synergy factor, which is explained further below."
   ]
  },
  {
   "cell_type": "code",
   "execution_count": 1,
   "metadata": {
    "collapsed": true
   },
   "outputs": [],
   "source": [
    "#packages\n",
    "import os\n",
    "import re\n",
    "import pdb\n",
    "import numpy as np\n",
    "import pickle\n",
    "import time\n",
    "import pandas as pd"
   ]
  },
  {
   "cell_type": "code",
   "execution_count": 2,
   "metadata": {
    "collapsed": true
   },
   "outputs": [],
   "source": [
    "#open pickles\n",
    "with open('gain_matrices.pkl','rb') as f:\n",
    "    num_games, game_gains, total_gains = pickle.load(f)\n",
    "with open('card_list.pkl','rb') as f:\n",
    "    card_list,card_dict = pickle.load(f)"
   ]
  },
  {
   "cell_type": "code",
   "execution_count": 8,
   "metadata": {
    "collapsed": true
   },
   "outputs": [],
   "source": [
    "#This is the a priori coding of the blue terms.\n",
    "\n",
    "#Card_weights is the probability that [col] is in the kingdom given that [row] is.\n",
    "card_weights = np.zeros((len(card_list),len(card_list)))\n",
    "#For any given kingdom card, the probabilities are roughly independent\n",
    "card_weights += 10/206\n",
    "#Some cards are in every kingdom\n",
    "card_weights[:,card_dict['Copper']] = 1\n",
    "card_weights[:,card_dict['Silver']] = 1\n",
    "card_weights[:,card_dict['Gold']] = 1\n",
    "card_weights[:,card_dict['Estate']] = 1\n",
    "card_weights[:,card_dict['Duchy']] = 1\n",
    "card_weights[:,card_dict['Province']] = 1\n",
    "card_weights[:,card_dict['Curse']] = 1\n",
    "#Colony and Platinum are 2.5 times as common (and I won't worry about the correlation with Prosperity cards)\n",
    "card_weights[:,card_dict['Colony']] *= 2.5\n",
    "card_weights[:,card_dict['Platinum']] *= 2.5\n",
    "card_weights[card_dict['Colony'],card_dict['Platinum']] = 1\n",
    "card_weights[card_dict['Platinum'],card_dict['Colony']] = 1\n",
    "#Ruins are three times as common, and guaranteed when a looter is in the kingdom\n",
    "card_weights[:,card_dict['Ruins']] *= 3\n",
    "card_weights[card_dict['Death Cart'],card_dict['Ruins']] = 1\n",
    "card_weights[card_dict['Marauder'],card_dict['Ruins']] = 1\n",
    "card_weights[card_dict['Cultist'],card_dict['Ruins']] = 1\n",
    "card_weights[card_dict['Ruins'],card_dict['Death Cart']] = 1/3\n",
    "card_weights[card_dict['Ruins'],card_dict['Marauder']] = 1/3\n",
    "card_weights[card_dict['Ruins'],card_dict['Cultist']] = 1/3\n",
    "#Potions are 9 times as common, and guaranteed if one of the potion cards is in the kingdom\n",
    "card_weights[:,card_dict['Potion']] *= 9\n",
    "potion_cards = ['Transmute','Scrying Pool','University','Apothecary','Familiar','Alchemist',\"Philosopher's Stone\",'Golem','Possession']\n",
    "for card in potion_cards:\n",
    "    card_weights[card_dict[card],card_dict['Potion']] = 1\n",
    "    card_weights[card_dict['Potion'],card_dict[card]] = 1/9\n",
    "#Finally, every card is guaranteed to appear in a game with itself\n",
    "np.fill_diagonal(card_weights,1)"
   ]
  },
  {
   "cell_type": "code",
   "execution_count": 9,
   "metadata": {
    "collapsed": true
   },
   "outputs": [],
   "source": [
    "#element-wise division\n",
    "prc_gains = game_gains / num_games\n",
    "avg_gains = total_gains / num_games\n",
    "\n",
    "#Apply weighting. Multiply by card_weights[col], except along the diagonal of the matrix\n",
    "impact_prc = prc_gains * card_weights\n",
    "impact_avg = avg_gains * card_weights\n",
    "#try without weights\n",
    "\n",
    "#Now from each row, subtract the vector from the average game\n",
    "copper_prc = impact_prc[card_dict['Copper'],:].copy()\n",
    "copper_avg = impact_avg[card_dict['Copper'],:].copy()\n",
    "impact_prc -= copper_prc\n",
    "impact_avg -= copper_avg\n",
    "\n",
    "#Finally, calculate the impact factor for each card\n",
    "#card_impact_prc = np.sum(impact_prc * impact_prc,axis = 1) ** 0.5 #problem: this squares the weight too\n",
    "#card_impact_avg = np.sum(impact_avg * impact_avg,axis = 1) ** 0.5\n",
    "card_impact_prc = np.sum(abs(impact_prc),axis = 1)\n",
    "card_impact_avg = np.sum(abs(impact_avg),axis = 1)"
   ]
  },
  {
   "cell_type": "code",
   "execution_count": 10,
   "metadata": {
    "collapsed": false
   },
   "outputs": [
    {
     "name": "stdout",
     "output_type": "stream",
     "text": [
      "0.020445697077629766\n",
      "0.06721717651659934\n"
     ]
    }
   ],
   "source": [
    "#want to estimate error margins\n",
    "prc_margin = np.sum( card_weights ** 2 * prc_gains ** 2 / num_games , axis = 1) ** 0.5\n",
    "avg_margin = np.sum( card_weights ** 2 * avg_gains ** 2 / num_games , axis = 1) ** 0.5\n",
    "print(np.mean(prc_margin))\n",
    "print(np.mean(avg_margin))"
   ]
  },
  {
   "cell_type": "code",
   "execution_count": 11,
   "metadata": {
    "collapsed": true
   },
   "outputs": [],
   "source": [
    "#sort cards by impact factor\n",
    "cards_sorted_prc = sorted(card_list , key = lambda card: -card_impact_prc[card_dict[card]])\n",
    "cards_sorted_avg = sorted(card_list , key = lambda card: -card_impact_avg[card_dict[card]])\n",
    "sorted_impact = sorted(card_impact_prc, reverse=True)"
   ]
  },
  {
   "cell_type": "markdown",
   "metadata": {},
   "source": [
    "cards_sorted_prc is based on gain frequency, while cards_sorted_avg is based on the average number of copies of each card gained.  Upon looking at these lists, I decided that cards_sorted_prc is more meaningful.  Cards_sorted_avg places Ill-Gotten Gains at top, which makes sense since you're gaining a lot of copper and curses, but most people wouldn't consider it stronger than Mountebank."
   ]
  },
  {
   "cell_type": "code",
   "execution_count": 12,
   "metadata": {
    "collapsed": false
   },
   "outputs": [
    {
     "name": "stdout",
     "output_type": "stream",
     "text": [
      "                     Card    Impact\n",
      "Rank                               \n",
      "1                 Rebuild  2.973071\n",
      "2              Mountebank  2.550012\n",
      "3                   Goons  2.459193\n",
      "4                 Cultist  2.425984\n",
      "5        Ill-Gotten Gains  2.378828\n",
      "6              Ambassador  2.359535\n",
      "7                Governor  2.228160\n",
      "8              University  2.186465\n",
      "9            Scrying Pool  2.168881\n",
      "10             Tournament  2.163019\n",
      "11               Familiar  2.014834\n",
      "12                 Minion  2.002180\n",
      "13               Swindler  1.999885\n",
      "14        JackOfAllTrades  1.988608\n",
      "15                 Chapel  1.956012\n",
      "16             Masquerade  1.944556\n",
      "17                 Colony  1.936160\n",
      "18               Platinum  1.936160\n",
      "19             Soothsayer  1.868006\n",
      "20        Fishing Village  1.835029\n",
      "21            Fool's Gold  1.811470\n",
      "22                  Wharf  1.803391\n",
      "23               Marauder  1.802965\n",
      "24                  Witch  1.800978\n",
      "25                Sea Hag  1.753880\n",
      "26               Torturer  1.748788\n",
      "27           King's Court  1.744238\n",
      "28           Black Market  1.678912\n",
      "29         Border Village  1.633574\n",
      "30                 Tunnel  1.595663\n",
      "...                   ...       ...\n",
      "188           Graverobber  0.582617\n",
      "189        Fortune Teller  0.582312\n",
      "190              Saboteur  0.567271\n",
      "191               Tribute  0.565885\n",
      "192             Herbalist  0.551973\n",
      "193            Bureaucrat  0.545602\n",
      "194          Treasure Map  0.542346\n",
      "195                 Cache  0.540528\n",
      "196   Philosopher's Stone  0.531217\n",
      "197              Mandarin  0.522747\n",
      "198              Explorer  0.522030\n",
      "199             Navigator  0.517542\n",
      "200                 Thief  0.508552\n",
      "201           Pirate Ship  0.500224\n",
      "202            Adventurer  0.499987\n",
      "203             Transmute  0.488754\n",
      "204            Royal Seal  0.477689\n",
      "205            Chancellor  0.473785\n",
      "206               Harvest  0.451850\n",
      "207                 Scout  0.445683\n",
      "208            Contraband  0.419641\n",
      "209           Coppersmith  0.394456\n",
      "210        Counting House  0.384033\n",
      "211                Copper  0.000000\n",
      "212                 Duchy  0.000000\n",
      "213                Silver  0.000000\n",
      "214                  Gold  0.000000\n",
      "215                 Curse  0.000000\n",
      "216              Province  0.000000\n",
      "217                Estate  0.000000\n",
      "\n",
      "[217 rows x 2 columns]\n"
     ]
    }
   ],
   "source": [
    "#use pandas to print out the list\n",
    "table = pd.DataFrame({'Rank':range(1,218),'Card':cards_sorted_prc,'Impact':sorted_impact})\n",
    "table = table.set_index('Rank')\n",
    "print(table)"
   ]
  },
  {
   "cell_type": "code",
   "execution_count": 7,
   "metadata": {
    "collapsed": false
   },
   "outputs": [
    {
     "name": "stdout",
     "output_type": "stream",
     "text": [
      "[table][tr][td]Rank[/td][td]Card[/td][td]Impact[/td][td]         [/td][td]Rank[/td][td]Card[/td][td]Impact[/td][/tr]\n",
      "[tr][td]1[/td][td]Rebuild[/td][td]2.97[/td][td][/td][td]110[/td][td]Throne Room[/td][td]1.03[/td][/tr]\n",
      "[tr][td]2[/td][td]Mountebank[/td][td]2.55[/td][td][/td][td]111[/td][td]Cellar[/td][td]1.02[/td][/tr]\n",
      "[tr][td]3[/td][td]Goons[/td][td]2.46[/td][td][/td][td]112[/td][td]Market[/td][td]1.01[/td][/tr]\n",
      "[tr][td]4[/td][td]Cultist[/td][td]2.43[/td][td][/td][td]113[/td][td]Stonemason[/td][td]1.01[/td][/tr]\n",
      "[tr][td]5[/td][td]Ill-Gotten Gains[/td][td]2.38[/td][td][/td][td]114[/td][td]Ghost Ship[/td][td]1.00[/td][/tr]\n",
      "[tr][td]6[/td][td]Ambassador[/td][td]2.36[/td][td][/td][td]115[/td][td]Remodel[/td][td]1.00[/td][/tr]\n",
      "[tr][td]7[/td][td]Governor[/td][td]2.23[/td][td][/td][td]116[/td][td]Oasis[/td][td]0.99[/td][/tr]\n",
      "[tr][td]8[/td][td]University[/td][td]2.19[/td][td][/td][td]117[/td][td]Vagrant[/td][td]0.99[/td][/tr]\n",
      "[tr][td]9[/td][td]Scrying Pool[/td][td]2.17[/td][td][/td][td]118[/td][td]Haven[/td][td]0.98[/td][/tr]\n",
      "[tr][td]10[/td][td]Tournament[/td][td]2.16[/td][td][/td][td]119[/td][td]Great Hall[/td][td]0.98[/td][/tr]\n",
      "[tr][td]11[/td][td]Familiar[/td][td]2.01[/td][td][/td][td]120[/td][td]Watchtower[/td][td]0.98[/td][/tr]\n",
      "[tr][td]12[/td][td]Minion[/td][td]2.00[/td][td][/td][td]121[/td][td]Trading Post[/td][td]0.96[/td][/tr]\n",
      "[tr][td]13[/td][td]Swindler[/td][td]2.00[/td][td][/td][td]122[/td][td]Doctor[/td][td]0.96[/td][/tr]\n",
      "[tr][td]14[/td][td]JackOfAllTrades[/td][td]1.99[/td][td][/td][td]123[/td][td]Moneylender[/td][td]0.95[/td][/tr]\n",
      "[tr][td]15[/td][td]Chapel[/td][td]1.96[/td][td][/td][td]124[/td][td]Lookout[/td][td]0.95[/td][/tr]\n",
      "[tr][td]16[/td][td]Masquerade[/td][td]1.94[/td][td][/td][td]125[/td][td]Silk Road[/td][td]0.95[/td][/tr]\n",
      "[tr][td]17[/td][td]Colony[/td][td]1.94[/td][td][/td][td]126[/td][td]Inn[/td][td]0.92[/td][/tr]\n",
      "[tr][td]18[/td][td]Platinum[/td][td]1.94[/td][td][/td][td]127[/td][td]Smugglers[/td][td]0.92[/td][/tr]\n",
      "[tr][td]19[/td][td]Soothsayer[/td][td]1.87[/td][td][/td][td]128[/td][td]Pawn[/td][td]0.91[/td][/tr]\n",
      "[tr][td]20[/td][td]Fishing Village[/td][td]1.84[/td][td][/td][td]129[/td][td]Forge[/td][td]0.91[/td][/tr]\n",
      "[tr][td]21[/td][td]Fool's Gold[/td][td]1.81[/td][td][/td][td]130[/td][td]Rabble[/td][td]0.89[/td][/tr]\n",
      "[tr][td]22[/td][td]Wharf[/td][td]1.80[/td][td][/td][td]131[/td][td]Envoy[/td][td]0.88[/td][/tr]\n",
      "[tr][td]23[/td][td]Marauder[/td][td]1.80[/td][td][/td][td]132[/td][td]Sage[/td][td]0.88[/td][/tr]\n",
      "[tr][td]24[/td][td]Witch[/td][td]1.80[/td][td][/td][td]133[/td][td]Feodum[/td][td]0.86[/td][/tr]\n",
      "[tr][td]25[/td][td]Sea Hag[/td][td]1.75[/td][td][/td][td]134[/td][td]Horn of Plenty[/td][td]0.86[/td][/tr]\n",
      "[tr][td]26[/td][td]Torturer[/td][td]1.75[/td][td][/td][td]135[/td][td]Death Cart[/td][td]0.85[/td][/tr]\n",
      "[tr][td]27[/td][td]King's Court[/td][td]1.74[/td][td][/td][td]136[/td][td]Vault[/td][td]0.85[/td][/tr]\n",
      "[tr][td]28[/td][td]Black Market[/td][td]1.68[/td][td][/td][td]137[/td][td]Trade Route[/td][td]0.84[/td][/tr]\n",
      "[tr][td]29[/td][td]Border Village[/td][td]1.63[/td][td][/td][td]138[/td][td]Smithy[/td][td]0.84[/td][/tr]\n",
      "[tr][td]30[/td][td]Tunnel[/td][td]1.60[/td][td][/td][td]139[/td][td]Farmland[/td][td]0.84[/td][/tr]\n",
      "[tr][td]31[/td][td]Steward[/td][td]1.57[/td][td][/td][td]140[/td][td]Expand[/td][td]0.82[/td][/tr]\n",
      "[tr][td]32[/td][td]Forager[/td][td]1.57[/td][td][/td][td]141[/td][td]Wishing Well[/td][td]0.81[/td][/tr]\n",
      "[tr][td]33[/td][td]Market Square[/td][td]1.55[/td][td][/td][td]142[/td][td]Moat[/td][td]0.80[/td][/tr]\n",
      "[tr][td]34[/td][td]Plaza[/td][td]1.52[/td][td][/td][td]143[/td][td]Mint[/td][td]0.80[/td][/tr]\n",
      "[tr][td]35[/td][td]Remake[/td][td]1.51[/td][td][/td][td]144[/td][td]Council Room[/td][td]0.79[/td][/tr]\n",
      "[tr][td]36[/td][td]Urchin[/td][td]1.51[/td][td][/td][td]145[/td][td]Harem[/td][td]0.79[/td][/tr]\n",
      "[tr][td]37[/td][td]Gardens[/td][td]1.50[/td][td][/td][td]146[/td][td]Storeroom[/td][td]0.78[/td][/tr]\n",
      "[tr][td]38[/td][td]City[/td][td]1.49[/td][td][/td][td]147[/td][td]Advisor[/td][td]0.78[/td][/tr]\n",
      "[tr][td]39[/td][td]Highway[/td][td]1.48[/td][td][/td][td]148[/td][td]Pearl Diver[/td][td]0.78[/td][/tr]\n",
      "[tr][td]40[/td][td]Wandering Minstrel[/td][td]1.45[/td][td][/td][td]149[/td][td]Baron[/td][td]0.78[/td][/tr]\n",
      "[tr][td]41[/td][td]Hunting Party[/td][td]1.44[/td][td][/td][td]150[/td][td]Hunting Grounds[/td][td]0.77[/td][/tr]\n",
      "[tr][td]42[/td][td]Alchemist[/td][td]1.43[/td][td][/td][td]151[/td][td]Taxman[/td][td]0.77[/td][/tr]\n",
      "[tr][td]43[/td][td]Worker's Village[/td][td]1.41[/td][td][/td][td]152[/td][td]Scavenger[/td][td]0.77[/td][/tr]\n",
      "[tr][td]44[/td][td]Lighthouse[/td][td]1.41[/td][td][/td][td]153[/td][td]Catacombs[/td][td]0.76[/td][/tr]\n",
      "[tr][td]45[/td][td]Conspirator[/td][td]1.41[/td][td][/td][td]154[/td][td]Journeyman[/td][td]0.76[/td][/tr]\n",
      "[tr][td]46[/td][td]Grand Market[/td][td]1.40[/td][td][/td][td]155[/td][td]Potion[/td][td]0.76[/td][/tr]\n",
      "[tr][td]47[/td][td]Ruins[/td][td]1.40[/td][td][/td][td]156[/td][td]Cartographer[/td][td]0.75[/td][/tr]\n",
      "[tr][td]48[/td][td]Baker[/td][td]1.40[/td][td][/td][td]157[/td][td]Nomad Camp[/td][td]0.75[/td][/tr]\n",
      "[tr][td]49[/td][td]Peddler[/td][td]1.39[/td][td][/td][td]158[/td][td]Treasury[/td][td]0.75[/td][/tr]\n",
      "[tr][td]50[/td][td]Hamlet[/td][td]1.38[/td][td][/td][td]159[/td][td]Procession[/td][td]0.74[/td][/tr]\n",
      "[tr][td]51[/td][td]Squire[/td][td]1.36[/td][td][/td][td]160[/td][td]Develop[/td][td]0.74[/td][/tr]\n",
      "[tr][td]52[/td][td]Young Witch[/td][td]1.34[/td][td][/td][td]161[/td][td]Feast[/td][td]0.74[/td][/tr]\n",
      "[tr][td]53[/td][td]Ironmonger[/td][td]1.33[/td][td][/td][td]162[/td][td]Loan[/td][td]0.73[/td][/tr]\n",
      "[tr][td]54[/td][td]Herald[/td][td]1.31[/td][td][/td][td]163[/td][td]Band of Misfits[/td][td]0.71[/td][/tr]\n",
      "[tr][td]55[/td][td]Vineyard[/td][td]1.31[/td][td][/td][td]164[/td][td]Mystic[/td][td]0.70[/td][/tr]\n",
      "[tr][td]56[/td][td]Upgrade[/td][td]1.31[/td][td][/td][td]165[/td][td]Beggar[/td][td]0.70[/td][/tr]\n",
      "[tr][td]57[/td][td]Prince[/td][td]1.31[/td][td][/td][td]166[/td][td]Library[/td][td]0.69[/td][/tr]\n",
      "[tr][td]58[/td][td]Bridge[/td][td]1.31[/td][td][/td][td]167[/td][td]Noble Brigand[/td][td]0.68[/td][/tr]\n",
      "[tr][td]59[/td][td]Nobles[/td][td]1.30[/td][td][/td][td]168[/td][td]Rats[/td][td]0.68[/td][/tr]\n",
      "[tr][td]60[/td][td]Fortress[/td][td]1.30[/td][td][/td][td]169[/td][td]Workshop[/td][td]0.68[/td][/tr]\n",
      "[tr][td]61[/td][td]Jester[/td][td]1.30[/td][td][/td][td]170[/td][td]Bank[/td][td]0.68[/td][/tr]\n",
      "[tr][td]62[/td][td]Junk Dealer[/td][td]1.29[/td][td][/td][td]171[/td][td]Spy[/td][td]0.67[/td][/tr]\n",
      "[tr][td]63[/td][td]Festival[/td][td]1.28[/td][td][/td][td]172[/td][td]Armory[/td][td]0.67[/td][/tr]\n",
      "[tr][td]64[/td][td]Count[/td][td]1.27[/td][td][/td][td]173[/td][td]Venture[/td][td]0.67[/td][/tr]\n",
      "[tr][td]65[/td][td]Duke[/td][td]1.27[/td][td][/td][td]174[/td][td]Duchess[/td][td]0.67[/td][/tr]\n",
      "[tr][td]66[/td][td]Fairgrounds[/td][td]1.25[/td][td][/td][td]175[/td][td]Poor House[/td][td]0.67[/td][/tr]\n",
      "[tr][td]67[/td][td]Knights[/td][td]1.25[/td][td][/td][td]176[/td][td]Cutpurse[/td][td]0.66[/td][/tr]\n",
      "[tr][td]68[/td][td]Candlestick Maker[/td][td]1.24[/td][td][/td][td]177[/td][td]Oracle[/td][td]0.65[/td][/tr]\n",
      "[tr][td]69[/td][td]Butcher[/td][td]1.24[/td][td][/td][td]178[/td][td]Rogue[/td][td]0.65[/td][/tr]\n",
      "[tr][td]70[/td][td]Hermit[/td][td]1.24[/td][td][/td][td]179[/td][td]Mine[/td][td]0.64[/td][/tr]\n",
      "[tr][td]71[/td][td]Bishop[/td][td]1.23[/td][td][/td][td]180[/td][td]Pillage[/td][td]0.63[/td][/tr]\n",
      "[tr][td]72[/td][td]Bandit Camp[/td][td]1.23[/td][td][/td][td]181[/td][td]Stash[/td][td]0.63[/td][/tr]\n",
      "[tr][td]73[/td][td]Margrave[/td][td]1.21[/td][td][/td][td]182[/td][td]Woodcutter[/td][td]0.61[/td][/tr]\n",
      "[tr][td]74[/td][td]Walled Village[/td][td]1.21[/td][td][/td][td]183[/td][td]Talisman[/td][td]0.60[/td][/tr]\n",
      "[tr][td]75[/td][td]Caravan[/td][td]1.20[/td][td][/td][td]184[/td][td]Masterpiece[/td][td]0.59[/td][/tr]\n",
      "[tr][td]76[/td][td]Apprentice[/td][td]1.20[/td][td][/td][td]185[/td][td]Outpost[/td][td]0.59[/td][/tr]\n",
      "[tr][td]77[/td][td]Apothecary[/td][td]1.19[/td][td][/td][td]186[/td][td]Secret Chamber[/td][td]0.58[/td][/tr]\n",
      "[tr][td]78[/td][td]Hoard[/td][td]1.18[/td][td][/td][td]187[/td][td]Merchant Ship[/td][td]0.58[/td][/tr]\n",
      "[tr][td]79[/td][td]Bazaar[/td][td]1.18[/td][td][/td][td]188[/td][td]Graverobber[/td][td]0.58[/td][/tr]\n",
      "[tr][td]80[/td][td]Village[/td][td]1.17[/td][td][/td][td]189[/td][td]Fortune Teller[/td][td]0.58[/td][/tr]\n",
      "[tr][td]81[/td][td]Haggler[/td][td]1.17[/td][td][/td][td]190[/td][td]Saboteur[/td][td]0.57[/td][/tr]\n",
      "[tr][td]82[/td][td]Warehouse[/td][td]1.16[/td][td][/td][td]191[/td][td]Tribute[/td][td]0.57[/td][/tr]\n",
      "[tr][td]83[/td][td]Counterfeit[/td][td]1.15[/td][td][/td][td]192[/td][td]Herbalist[/td][td]0.55[/td][/tr]\n",
      "[tr][td]84[/td][td]Salvager[/td][td]1.15[/td][td][/td][td]193[/td][td]Bureaucrat[/td][td]0.55[/td][/tr]\n",
      "[tr][td]85[/td][td]Laboratory[/td][td]1.14[/td][td][/td][td]194[/td][td]Treasure Map[/td][td]0.54[/td][/tr]\n",
      "[tr][td]86[/td][td]Embassy[/td][td]1.14[/td][td][/td][td]195[/td][td]Cache[/td][td]0.54[/td][/tr]\n",
      "[tr][td]87[/td][td]Merchant Guild[/td][td]1.14[/td][td][/td][td]196[/td][td]Philosopher's Stone[/td][td]0.53[/td][/tr]\n",
      "[tr][td]88[/td][td]Menagerie[/td][td]1.14[/td][td][/td][td]197[/td][td]Mandarin[/td][td]0.52[/td][/tr]\n",
      "[tr][td]89[/td][td]Crossroads[/td][td]1.12[/td][td][/td][td]198[/td][td]Explorer[/td][td]0.52[/td][/tr]\n",
      "[tr][td]90[/td][td]Stables[/td][td]1.11[/td][td][/td][td]199[/td][td]Navigator[/td][td]0.52[/td][/tr]\n",
      "[tr][td]91[/td][td]Ironworks[/td][td]1.11[/td][td][/td][td]200[/td][td]Thief[/td][td]0.51[/td][/tr]\n",
      "[tr][td]92[/td][td]Mining Village[/td][td]1.11[/td][td][/td][td]201[/td][td]Pirate Ship[/td][td]0.50[/td][/tr]\n",
      "[tr][td]93[/td][td]Spice Merchant[/td][td]1.11[/td][td][/td][td]202[/td][td]Adventurer[/td][td]0.50[/td][/tr]\n",
      "[tr][td]94[/td][td]Possession[/td][td]1.11[/td][td][/td][td]203[/td][td]Transmute[/td][td]0.49[/td][/tr]\n",
      "[tr][td]95[/td][td]Quarry[/td][td]1.10[/td][td][/td][td]204[/td][td]Royal Seal[/td][td]0.48[/td][/tr]\n",
      "[tr][td]96[/td][td]Farming Village[/td][td]1.09[/td][td][/td][td]205[/td][td]Chancellor[/td][td]0.47[/td][/tr]\n",
      "[tr][td]97[/td][td]Golem[/td][td]1.08[/td][td][/td][td]206[/td][td]Harvest[/td][td]0.45[/td][/tr]\n",
      "[tr][td]98[/td][td]Shanty Town[/td][td]1.08[/td][td][/td][td]207[/td][td]Scout[/td][td]0.45[/td][/tr]\n",
      "[tr][td]99[/td][td]Tactician[/td][td]1.07[/td][td][/td][td]208[/td][td]Contraband[/td][td]0.42[/td][/tr]\n",
      "[tr][td]100[/td][td]Trader[/td][td]1.07[/td][td][/td][td]209[/td][td]Coppersmith[/td][td]0.39[/td][/tr]\n",
      "[tr][td]101[/td][td]Monument[/td][td]1.05[/td][td][/td][td]210[/td][td]Counting House[/td][td]0.38[/td][/tr]\n",
      "[tr][td]102[/td][td]Scheme[/td][td]1.05[/td][td][/td][td]211[/td][td]Copper[/td][td]0.00[/td][/tr]\n",
      "[tr][td]103[/td][td]Courtyard[/td][td]1.05[/td][td][/td][td]212[/td][td]Duchy[/td][td]0.00[/td][/tr]\n",
      "[tr][td]104[/td][td]Embargo[/td][td]1.05[/td][td][/td][td]213[/td][td]Silver[/td][td]0.00[/td][/tr]\n",
      "[tr][td]105[/td][td]Island[/td][td]1.04[/td][td][/td][td]214[/td][td]Gold[/td][td]0.00[/td][/tr]\n",
      "[tr][td]106[/td][td]Native Village[/td][td]1.04[/td][td][/td][td]215[/td][td]Curse[/td][td]0.00[/td][/tr]\n",
      "[tr][td]107[/td][td]Militia[/td][td]1.04[/td][td][/td][td]216[/td][td]Province[/td][td]0.00[/td][/tr]\n",
      "[tr][td]108[/td][td]Altar[/td][td]1.03[/td][td][/td][td]217[/td][td]Estate[/td][td]0.00[/td][/tr]\n",
      "[tr][td]109[/td][td]Horse Traders[/td][td]1.03[/td][td][/td][/tr][/table]\n"
     ]
    }
   ],
   "source": [
    "#make a table that can be posted to f.ds\n",
    "#table_string = '[table][tr][td]Rank[/td][td]Card[/td][td]Impact[/td][/tr]\\n'\n",
    "#for i in range(217):\n",
    "#    table_string += '[tr][td]%i[/td][td]%s[/td][td]%.2f[/td][/tr]\\n' % (i+1,cards_sorted_prc[i],sorted_impact[i])\n",
    "#table_string += '[/table]'\n",
    "\n",
    "#2 column version\n",
    "table_string = '[table][tr][td]Rank[/td][td]Card[/td][td]Impact[/td][td]         [/td][td]Rank[/td][td]Card[/td][td]Impact[/td][/tr]\\n'\n",
    "for i in range(109):\n",
    "    table_string += '[tr][td]%i[/td][td]%s[/td][td]%.2f[/td]' % (i+1,cards_sorted_prc[i],sorted_impact[i])\n",
    "    table_string += '[td][/td]'\n",
    "    if i < 108:\n",
    "        table_string += '[td]%i[/td][td]%s[/td][td]%.2f[/td][/tr]\\n' % (i+110,cards_sorted_prc[i+109],sorted_impact[i+109])\n",
    "\n",
    "table_string += '[/tr][/table]'\n",
    "print(table_string)"
   ]
  },
  {
   "cell_type": "markdown",
   "metadata": {},
   "source": [
    "# Synergy factor\n",
    "The synergy factor is an alternative metric that tells you how much a card affects gain percentages rather than gain frequencies.  The difference between these two concepts is that \"gain frequency\" looks at all games, whereas \"gain percentage\" restricts itself only to games where the card is available.  In mathematical terms:\n",
    "\n",
    "$\\mathrm{Synergy}(X) = \\sum_Y \\Big| P(\\mathrm{gain}(Y)|\\mathrm{supply}(X)\\&\\mathrm{supply}(Y)) - P(\\mathrm{gain}(Y)|\\mathrm{supply}(Y))\\Big|$\n",
    "\n",
    "Essentially, we are ignoring the blue terms in the mathematical equations at the top of the notebook.  The main effect is that the weight of non-kingdom cards is greatly reduced.  Additionally, you may also notice that the synergy factor does not include any contribution from its *own* gain percentage.  This is a qualitatively distinct concept that, in my opinion, does not quite match the concept of \"card strength\".  But it is still useful, and it's what I use to classify card types in my later PCA analysis."
   ]
  },
  {
   "cell_type": "code",
   "execution_count": 9,
   "metadata": {
    "collapsed": true
   },
   "outputs": [],
   "source": [
    "#open pickles if not already done\n",
    "with open('gain_matrices.pkl','rb') as f:\n",
    "    num_games, game_gains, total_gains = pickle.load(f)\n",
    "with open('card_list.pkl','rb') as f:\n",
    "    card_list,card_dict = pickle.load(f)"
   ]
  },
  {
   "cell_type": "code",
   "execution_count": 25,
   "metadata": {
    "collapsed": true
   },
   "outputs": [],
   "source": [
    "#I'm only calculating the synergy factor of kingdom cards.  So let's eliminate these rows:\n",
    "card_excluder = np.ones((len(card_list)))\n",
    "non_kingdom_cards = ['Copper','Silver','Gold','Estate','Duchy','Province','Curse','Colony','Platinum','Ruins','Potion','Prince','Walled Village']\n",
    "\n",
    "for card in non_kingdom_cards:\n",
    "    card_excluder[card_dict[card]] = 0"
   ]
  },
  {
   "cell_type": "code",
   "execution_count": 26,
   "metadata": {
    "collapsed": true
   },
   "outputs": [],
   "source": [
    "#element-wise division\n",
    "prc_gains = game_gains / num_games\n",
    "\n",
    "#Exclude non-kingdom cards by using card_excluder\n",
    "synergies = prc_gains * card_excluder\n",
    "\n",
    "#Now from each row, subtract the vector from the average game\n",
    "base_gain = synergies[card_dict['Copper'],:].copy()\n",
    "synergies -= base_gain\n",
    "\n",
    "#Finally, calculate the synergy factor for each card\n",
    "syn_factor = np.sum(abs(synergies),axis = 1)"
   ]
  },
  {
   "cell_type": "code",
   "execution_count": 27,
   "metadata": {
    "collapsed": false
   },
   "outputs": [
    {
     "name": "stdout",
     "output_type": "stream",
     "text": [
      "0.31180894049892066\n",
      "0.0202347400204194\n"
     ]
    }
   ],
   "source": [
    "#want to estimate error margins in the synergy factor\n",
    "syn_margin = np.sum( (prc_gains * card_excluder) ** 2 / num_games , axis = 1) ** 0.5\n",
    "print(np.mean(syn_margin))\n",
    "\n",
    "#And the error margins in any particular synergy strength\n",
    "print(np.mean(prc_gains) / 600**0.5)"
   ]
  },
  {
   "cell_type": "code",
   "execution_count": 28,
   "metadata": {
    "collapsed": true
   },
   "outputs": [],
   "source": [
    "#sort cards by synergy factor\n",
    "#And remove the base cards and potion.  I don't care about those\n",
    "cards_sorted_syn = sorted(card_list , key = lambda card: -syn_factor[card_dict[card]])[:210]\n",
    "sorted_syn = sorted(syn_factor, reverse=True)[:210]"
   ]
  },
  {
   "cell_type": "code",
   "execution_count": 29,
   "metadata": {
    "collapsed": true
   },
   "outputs": [],
   "source": [
    "#find top two synergies and top anti-synergy\n",
    "syn_card_1 = ['']*len(sorted_syn)\n",
    "syn_card_2 = ['']*len(sorted_syn)\n",
    "syn_card_3 = ['']*len(sorted_syn)\n",
    "syn_factor_1 = [0.0]*len(sorted_syn)\n",
    "syn_factor_2 = [0.0]*len(sorted_syn)\n",
    "syn_factor_3 = [0.0]*len(sorted_syn)\n",
    "\n",
    "for i, card in enumerate(cards_sorted_syn):\n",
    "    syn_contributions = synergies[card_dict[card],:]\n",
    "    #sorted_contributors = sorted(card_list, key = lambda card: -abs(syn_contributions[card_dict[card]]))\n",
    "    #sorted_contributions = sorted(syn_contributions, key = lambda contribution: -abs(contribution))\n",
    "    sorted_contributors = sorted(card_list, key = lambda card: -syn_contributions[card_dict[card]])\n",
    "    sorted_contributions = sorted(syn_contributions, key = lambda contribution: -contribution)\n",
    "    syn_card_1[i] = sorted_contributors[0]\n",
    "    syn_card_2[i] = sorted_contributors[1]\n",
    "    syn_card_3[i] = sorted_contributors[-1]\n",
    "    syn_factor_1[i] = sorted_contributions[0]\n",
    "    syn_factor_2[i] = sorted_contributions[1]\n",
    "    syn_factor_3[i] = sorted_contributions[-1]"
   ]
  },
  {
   "cell_type": "code",
   "execution_count": 30,
   "metadata": {
    "collapsed": false
   },
   "outputs": [
    {
     "name": "stdout",
     "output_type": "stream",
     "text": [
      "           1st synergy                Card     Impact  syn1 strength\n",
      "Rank                                                                \n",
      "1               Feodum             Rebuild  25.800888       0.245498\n",
      "2         Treasure Map              Chapel  16.934039       0.293513\n",
      "3               Feodum     JackOfAllTrades  16.902519       0.207735\n",
      "4                 Rats            Governor  16.836481       0.185476\n",
      "5           Death Cart             Cultist  16.624026       0.180185\n",
      "6           Possession          Masquerade  16.598802       0.146210\n",
      "7                 Bank               Wharf  16.584568       0.184255\n",
      "8              Library          University  16.130394       0.302616\n",
      "9               Trader    Ill-Gotten Gains  15.792083       0.197256\n",
      "10          Lighthouse              Minion  15.217949       0.183729\n",
      "11              Quarry               Goons  14.252552       0.224409\n",
      "12               Envoy     Fishing Village  13.790295       0.283946\n",
      "13           Storeroom         Fool's Gold  13.402865       0.174017\n",
      "14          Death Cart         Fairgrounds  13.138535       0.190694\n",
      "15          Lighthouse          Ambassador  13.132035       0.165175\n",
      "16              Trader          Mountebank  12.624381       0.233464\n",
      "17     Band of Misfits          Tournament  12.235463       0.162542\n",
      "18              Oracle              Prince  12.019281       0.302203\n",
      "19         Bandit Camp             Steward  11.969469       0.104980\n",
      "20          Poor House             Forager  11.905830       0.183716\n",
      "21                Moat             Sea Hag  11.852957       0.173794\n",
      "22              Rabble      Border Village  11.767583       0.262521\n",
      "23          Lighthouse            Torturer  11.663090       0.170130\n",
      "24          Poor House              Remake  11.523416       0.315744\n",
      "25            Saboteur        King's Court  11.486799       0.270847\n",
      "26           Storeroom        Scrying Pool  11.447936       0.209325\n",
      "27            Fortress              Urchin  11.353881       0.157605\n",
      "28            Workshop  Wandering Minstrel  11.205578       0.207990\n",
      "29     Hunting Grounds      Walled Village  11.202205       0.238625\n",
      "30               Altar       Hunting Party  11.150283       0.153897\n",
      "...                ...                 ...        ...            ...\n",
      "181              Harem                Mine   4.427997       0.089385\n",
      "182            Venture                Bank   4.413854       0.117259\n",
      "183              Hoard             Harvest   4.395590       0.073756\n",
      "184              Envoy          Chancellor   4.372998       0.101735\n",
      "185             Tunnel        Cartographer   4.359043       0.116327\n",
      "186   Ill-Gotten Gains              Oracle   4.350580       0.089892\n",
      "187         Soothsayer               Rogue   4.347748       0.081352\n",
      "188       Cartographer         Pearl Diver   4.337137       0.067703\n",
      "189             Beggar       Noble Brigand   4.336801       0.086375\n",
      "190              Stash             Duchess   4.332567       0.123971\n",
      "191             Expand          Contraband   4.295566       0.090505\n",
      "192             Doctor                 Spy   4.292543       0.078650\n",
      "193       Trading Post             Outpost   4.284611       0.074885\n",
      "194            Embargo            Saboteur   4.271649       0.074899\n",
      "195       Cartographer          Royal Seal   4.225988       0.079711\n",
      "196             Tunnel           Navigator   4.223052       0.083277\n",
      "197         Ghost Ship             Tribute   4.190403       0.087699\n",
      "198             Chapel        Treasure Map   4.180898       0.071169\n",
      "199               Rats          Death Cart   4.142028       0.107981\n",
      "200              Harem               Scout   4.125483       0.077889\n",
      "201             Beggar      Counting House   4.086193       0.097554\n",
      "202              Vault          Poor House   4.073719       0.092176\n",
      "203               Mint            Mandarin   4.038028       0.072024\n",
      "204   Ill-Gotten Gains      Fortune Teller   3.974432       0.069714\n",
      "205           Marauder       Merchant Ship   3.956461       0.056001\n",
      "206         Apothecary         Coppersmith   3.947487       0.070712\n",
      "207          Alchemist             Pillage   3.942600       0.077239\n",
      "208               Rats         Graverobber   3.885999       0.079079\n",
      "209               Duke            Explorer   3.865847       0.066914\n",
      "210          Herbalist              Potion   3.195660       0.079315\n",
      "\n",
      "[210 rows x 4 columns]\n"
     ]
    }
   ],
   "source": [
    "#use pandas to print out the list\n",
    "table = pd.DataFrame({'Rank':range(1,211),'Card':cards_sorted_syn,'Impact':sorted_syn,'1st synergy':syn_card_1,'syn1 strength':syn_factor_1})\n",
    "table = table.set_index('Rank')\n",
    "print(table)"
   ]
  },
  {
   "cell_type": "code",
   "execution_count": 16,
   "metadata": {
    "collapsed": false,
    "scrolled": false
   },
   "outputs": [
    {
     "name": "stdout",
     "output_type": "stream",
     "text": [
      "[table][tr][td]Rank[/td][td]Card[/td][td]Synergy Factor[/td][td]Top synergy[/td][td]          [/td][td]2nd synergy[/td][td]          [/td][td]Top anti-synergy[/td][td]          [/td][/tr]\n",
      "[tr][td]1[/td][td]Rebuild[/td][td]25.8[/td][td]Feodum[/td][td]0.25[/td][td]Feast[/td][td]0.24[/td][td]Laboratory[/td][td]-0.34[/td][/tr][tr][td]2[/td][td]Chapel[/td][td]16.9[/td][td]Treasure Map[/td][td]0.29[/td][td]Market Square[/td][td]0.14[/td][td]Lookout[/td][td]-0.42[/td][/tr][tr][td]3[/td][td]JackOfAllTrades[/td][td]16.9[/td][td]Feodum[/td][td]0.21[/td][td]Duke[/td][td]0.13[/td][td]Sea Hag[/td][td]-0.30[/td][/tr][tr][td]4[/td][td]Governor[/td][td]16.8[/td][td]Rats[/td][td]0.19[/td][td]Militia[/td][td]0.18[/td][td]Bandit Camp[/td][td]-0.34[/td][/tr][tr][td]5[/td][td]Cultist[/td][td]16.6[/td][td]Death Cart[/td][td]0.18[/td][td]Trader[/td][td]0.16[/td][td]Rabble[/td][td]-0.27[/td][/tr][tr][td]6[/td][td]Masquerade[/td][td]16.6[/td][td]Possession[/td][td]0.15[/td][td]Bandit Camp[/td][td]0.12[/td][td]Sea Hag[/td][td]-0.39[/td][/tr][tr][td]7[/td][td]Wharf[/td][td]16.6[/td][td]Bank[/td][td]0.18[/td][td]Quarry[/td][td]0.17[/td][td]Catacombs[/td][td]-0.33[/td][/tr][tr][td]8[/td][td]University[/td][td]16.1[/td][td]Library[/td][td]0.30[/td][td]Journeyman[/td][td]0.26[/td][td]Quarry[/td][td]-0.13[/td][/tr][tr][td]9[/td][td]Ill-Gotten Gains[/td][td]15.8[/td][td]Trader[/td][td]0.20[/td][td]Gardens[/td][td]0.17[/td][td]Festival[/td][td]-0.22[/td][/tr][tr][td]10[/td][td]Minion[/td][td]15.2[/td][td]Lighthouse[/td][td]0.18[/td][td]Horse Traders[/td][td]0.17[/td][td]Ghost Ship[/td][td]-0.31[/td][/tr][tr][td]11[/td][td]Goons[/td][td]14.3[/td][td]Quarry[/td][td]0.22[/td][td]Native Village[/td][td]0.22[/td][td]Hoard[/td][td]-0.26[/td][/tr][tr][td]12[/td][td]Fishing Village[/td][td]13.8[/td][td]Envoy[/td][td]0.28[/td][td]Smithy[/td][td]0.26[/td][td]Village[/td][td]-0.33[/td][/tr][tr][td]13[/td][td]Fool's Gold[/td][td]13.4[/td][td]Storeroom[/td][td]0.17[/td][td]Nomad Camp[/td][td]0.16[/td][td]Peddler[/td][td]-0.19[/td][/tr][tr][td]14[/td][td]Fairgrounds[/td][td]13.1[/td][td]Death Cart[/td][td]0.19[/td][td]Spy[/td][td]0.18[/td][td]Chapel[/td][td]-0.02[/td][/tr][tr][td]15[/td][td]Ambassador[/td][td]13.1[/td][td]Lighthouse[/td][td]0.17[/td][td]Native Village[/td][td]0.13[/td][td]Sea Hag[/td][td]-0.37[/td][/tr][tr][td]16[/td][td]Mountebank[/td][td]12.6[/td][td]Trader[/td][td]0.23[/td][td]Watchtower[/td][td]0.22[/td][td]Witch[/td][td]-0.30[/td][/tr][tr][td]17[/td][td]Tournament[/td][td]12.2[/td][td]Band of Misfits[/td][td]0.16[/td][td]Tactician[/td][td]0.10[/td][td]Bridge[/td][td]-0.21[/td][/tr][tr][td]18[/td][td]Prince[/td][td]12.0[/td][td]Oracle[/td][td]0.30[/td][td]Quarry[/td][td]0.24[/td][td]Jester[/td][td]-0.21[/td][/tr][tr][td]19[/td][td]Steward[/td][td]12.0[/td][td]Bandit Camp[/td][td]0.10[/td][td]Bazaar[/td][td]0.10[/td][td]Lookout[/td][td]-0.26[/td][/tr][tr][td]20[/td][td]Forager[/td][td]11.9[/td][td]Poor House[/td][td]0.18[/td][td]Fool's Gold[/td][td]0.16[/td][td]Trade Route[/td][td]-0.37[/td][/tr][tr][td]21[/td][td]Sea Hag[/td][td]11.9[/td][td]Moat[/td][td]0.17[/td][td]Lighthouse[/td][td]0.17[/td][td]Familiar[/td][td]-0.32[/td][/tr][tr][td]22[/td][td]Border Village[/td][td]11.8[/td][td]Rabble[/td][td]0.26[/td][td]Journeyman[/td][td]0.24[/td][td]Nobles[/td][td]-0.13[/td][/tr][tr][td]23[/td][td]Torturer[/td][td]11.7[/td][td]Lighthouse[/td][td]0.17[/td][td]University[/td][td]0.14[/td][td]Rabble[/td][td]-0.27[/td][/tr][tr][td]24[/td][td]Remake[/td][td]11.5[/td][td]Poor House[/td][td]0.32[/td][td]Fortress[/td][td]0.13[/td][td]Moneylender[/td][td]-0.28[/td][/tr][tr][td]25[/td][td]King's Court[/td][td]11.5[/td][td]Saboteur[/td][td]0.27[/td][td]Woodcutter[/td][td]0.21[/td][td]Bank[/td][td]-0.17[/td][/tr][tr][td]26[/td][td]Scrying Pool[/td][td]11.4[/td][td]Storeroom[/td][td]0.21[/td][td]Woodcutter[/td][td]0.21[/td][td]JackOfAllTrades[/td][td]-0.17[/td][/tr][tr][td]27[/td][td]Urchin[/td][td]11.4[/td][td]Fortress[/td][td]0.16[/td][td]Lighthouse[/td][td]0.10[/td][td]Lookout[/td][td]-0.26[/td][/tr][tr][td]28[/td][td]Wandering Minstrel[/td][td]11.2[/td][td]Workshop[/td][td]0.21[/td][td]Armory[/td][td]0.19[/td][td]Farming Village[/td][td]-0.30[/td][/tr][tr][td]29[/td][td]Walled Village[/td][td]11.2[/td][td]Hunting Grounds[/td][td]0.24[/td][td]Council Room[/td][td]0.23[/td][td]Advisor[/td][td]-0.19[/td][/tr][tr][td]30[/td][td]Hunting Party[/td][td]11.2[/td][td]Altar[/td][td]0.15[/td][td]Horn of Plenty[/td][td]0.15[/td][td]Laboratory[/td][td]-0.26[/td][/tr][tr][td]31[/td][td]Plaza[/td][td]11.0[/td][td]Library[/td][td]0.22[/td][td]Watchtower[/td][td]0.18[/td][td]Mining Village[/td][td]-0.31[/td][/tr][tr][td]32[/td][td]Gardens[/td][td]10.9[/td][td]Beggar[/td][td]0.39[/td][td]Workshop[/td][td]0.26[/td][td]Apprentice[/td][td]-0.13[/td][/tr][tr][td]33[/td][td]Swindler[/td][td]10.7[/td][td]Masterpiece[/td][td]0.30[/td][td]Chancellor[/td][td]0.28[/td][td]Fool's Gold[/td][td]-0.16[/td][/tr][tr][td]34[/td][td]Tunnel[/td][td]10.5[/td][td]Storeroom[/td][td]0.28[/td][td]Embassy[/td][td]0.22[/td][td]Militia[/td][td]-0.19[/td][/tr][tr][td]35[/td][td]Fortress[/td][td]10.4[/td][td]Procession[/td][td]0.20[/td][td]Develop[/td][td]0.19[/td][td]Worker's Village[/td][td]-0.15[/td][/tr][tr][td]36[/td][td]Black Market[/td][td]10.3[/td][td]Fairgrounds[/td][td]0.17[/td][td]Quarry[/td][td]0.13[/td][td]Smugglers[/td][td]-0.18[/td][/tr][tr][td]37[/td][td]City[/td][td]10.2[/td][td]University[/td][td]0.18[/td][td]Bridge[/td][td]0.16[/td][td]Cartographer[/td][td]-0.18[/td][/tr][tr][td]38[/td][td]Worker's Village[/td][td]10.2[/td][td]Catacombs[/td][td]0.21[/td][td]Torturer[/td][td]0.21[/td][td]Mining Village[/td][td]-0.21[/td][/tr][tr][td]39[/td][td]Witch[/td][td]10.2[/td][td]Lighthouse[/td][td]0.15[/td][td]Trader[/td][td]0.14[/td][td]Torturer[/td][td]-0.26[/td][/tr][tr][td]40[/td][td]Highway[/td][td]10.1[/td][td]Talisman[/td][td]0.21[/td][td]Ironworks[/td][td]0.18[/td][td]Mystic[/td][td]-0.19[/td][/tr][tr][td]41[/td][td]Familiar[/td][td]10.0[/td][td]Transmute[/td][td]0.25[/td][td]Golem[/td][td]0.20[/td][td]Witch[/td][td]-0.13[/td][/tr][tr][td]42[/td][td]Vineyard[/td][td]9.9[/td][td]Herbalist[/td][td]0.24[/td][td]Rats[/td][td]0.23[/td][td]Cultist[/td][td]-0.18[/td][/tr][tr][td]43[/td][td]Baker[/td][td]9.9[/td][td]Altar[/td][td]0.11[/td][td]Count[/td][td]0.09[/td][td]Treasury[/td][td]-0.18[/td][/tr][tr][td]44[/td][td]Festival[/td][td]9.6[/td][td]Hunting Grounds[/td][td]0.22[/td][td]Watchtower[/td][td]0.21[/td][td]Market[/td][td]-0.17[/td][/tr][tr][td]45[/td][td]Ironmonger[/td][td]9.6[/td][td]Workshop[/td][td]0.22[/td][td]Ironworks[/td][td]0.17[/td][td]Farming Village[/td][td]-0.23[/td][/tr][tr][td]46[/td][td]Bazaar[/td][td]9.4[/td][td]Smugglers[/td][td]0.18[/td][td]Smithy[/td][td]0.16[/td][td]Treasury[/td][td]-0.14[/td][/tr][tr][td]47[/td][td]Village[/td][td]9.4[/td][td]Rabble[/td][td]0.18[/td][td]Smithy[/td][td]0.18[/td][td]Shanty Town[/td][td]-0.11[/td][/tr][tr][td]48[/td][td]Soothsayer[/td][td]9.4[/td][td]Lighthouse[/td][td]0.15[/td][td]Watchtower[/td][td]0.13[/td][td]Witch[/td][td]-0.24[/td][/tr][tr][td]49[/td][td]Marauder[/td][td]9.3[/td][td]Lighthouse[/td][td]0.13[/td][td]Death Cart[/td][td]0.12[/td][td]Militia[/td][td]-0.16[/td][/tr][tr][td]50[/td][td]Bridge[/td][td]9.3[/td][td]Native Village[/td][td]0.20[/td][td]Inn[/td][td]0.11[/td][td]Nomad Camp[/td][td]-0.25[/td][/tr][tr][td]51[/td][td]Squire[/td][td]9.1[/td][td]Torturer[/td][td]0.20[/td][td]Rabble[/td][td]0.19[/td][td]Native Village[/td][td]-0.14[/td][/tr][tr][td]52[/td][td]Margrave[/td][td]9.1[/td][td]Village[/td][td]0.15[/td][td]University[/td][td]0.15[/td][td]Ghost Ship[/td][td]-0.16[/td][/tr][tr][td]53[/td][td]Hamlet[/td][td]9.0[/td][td]Library[/td][td]0.21[/td][td]Smithy[/td][td]0.19[/td][td]Native Village[/td][td]-0.25[/td][/tr][tr][td]54[/td][td]Young Witch[/td][td]8.9[/td][td]Tunnel[/td][td]0.15[/td][td]Band of Misfits[/td][td]0.13[/td][td]Expand[/td][td]-0.23[/td][/tr][tr][td]55[/td][td]Herald[/td][td]8.9[/td][td]Armory[/td][td]0.26[/td][td]Workshop[/td][td]0.25[/td][td]Mining Village[/td][td]-0.13[/td][/tr][tr][td]56[/td][td]Grand Market[/td][td]8.9[/td][td]Quarry[/td][td]0.26[/td][td]Vault[/td][td]0.21[/td][td]Hoard[/td][td]-0.18[/td][/tr][tr][td]57[/td][td]Embassy[/td][td]8.8[/td][td]Tunnel[/td][td]0.11[/td][td]Farmland[/td][td]0.07[/td][td]Catacombs[/td][td]-0.18[/td][/tr][tr][td]58[/td][td]Bandit Camp[/td][td]8.8[/td][td]Envoy[/td][td]0.19[/td][td]Hunting Grounds[/td][td]0.16[/td][td]Festival[/td][td]-0.18[/td][/tr][tr][td]59[/td][td]Farming Village[/td][td]8.7[/td][td]Torturer[/td][td]0.20[/td][td]Hunting Grounds[/td][td]0.16[/td][td]Mining Village[/td][td]-0.20[/td][/tr][tr][td]60[/td][td]Upgrade[/td][td]8.5[/td][td]Rats[/td][td]0.31[/td][td]Poor House[/td][td]0.28[/td][td]Apprentice[/td][td]-0.18[/td][/tr][tr][td]61[/td][td]Colony[/td][td]8.5[/td][td]Mine[/td][td]0.13[/td][td]Taxman[/td][td]0.12[/td][td]Duke[/td][td]-0.24[/td][/tr][tr][td]62[/td][td]Platinum[/td][td]8.5[/td][td]Mine[/td][td]0.13[/td][td]Taxman[/td][td]0.12[/td][td]Duke[/td][td]-0.24[/td][/tr][tr][td]63[/td][td]Duke[/td][td]8.4[/td][td]Beggar[/td][td]0.21[/td][td]Bureaucrat[/td][td]0.15[/td][td]Possession[/td][td]-0.11[/td][/tr][tr][td]64[/td][td]Conspirator[/td][td]8.3[/td][td]Sage[/td][td]0.14[/td][td]Ironworks[/td][td]0.13[/td][td]Bank[/td][td]-0.11[/td][/tr][tr][td]65[/td][td]Junk Dealer[/td][td]8.3[/td][td]Market Square[/td][td]0.11[/td][td]Quarry[/td][td]0.09[/td][td]Trading Post[/td][td]-0.26[/td][/tr][tr][td]66[/td][td]Butcher[/td][td]8.3[/td][td]Rats[/td][td]0.23[/td][td]Fortress[/td][td]0.12[/td][td]Remodel[/td][td]-0.18[/td][/tr][tr][td]67[/td][td]Caravan[/td][td]8.2[/td][td]Workshop[/td][td]0.26[/td][td]Ironworks[/td][td]0.23[/td][td]Advisor[/td][td]-0.22[/td][/tr][tr][td]68[/td][td]Market Square[/td][td]8.2[/td][td]Apprentice[/td][td]0.17[/td][td]Vineyard[/td][td]0.11[/td][td]Worker's Village[/td][td]-0.15[/td][/tr][tr][td]69[/td][td]Mining Village[/td][td]8.2[/td][td]Torturer[/td][td]0.18[/td][td]Rabble[/td][td]0.16[/td][td]Fortress[/td][td]-0.16[/td][/tr][tr][td]70[/td][td]Lighthouse[/td][td]8.2[/td][td]Mint[/td][td]0.11[/td][td]Horn of Plenty[/td][td]0.08[/td][td]Moat[/td][td]-0.20[/td][/tr][tr][td]71[/td][td]Bishop[/td][td]8.1[/td][td]Fortress[/td][td]0.19[/td][td]Rats[/td][td]0.18[/td][td]Gardens[/td][td]-0.18[/td][/tr][tr][td]72[/td][td]Laboratory[/td][td]8.0[/td][td]Altar[/td][td]0.15[/td][td]University[/td][td]0.15[/td][td]Mystic[/td][td]-0.15[/td][/tr][tr][td]73[/td][td]Salvager[/td][td]7.9[/td][td]Rats[/td][td]0.19[/td][td]Fortress[/td][td]0.12[/td][td]Remodel[/td][td]-0.20[/td][/tr][tr][td]74[/td][td]Native Village[/td][td]7.8[/td][td]Bridge[/td][td]0.19[/td][td]Torturer[/td][td]0.15[/td][td]Pearl Diver[/td][td]-0.16[/td][/tr][tr][td]75[/td][td]Knights[/td][td]7.8[/td][td]Moat[/td][td]0.16[/td][td]Rogue[/td][td]0.15[/td][td]Duke[/td][td]-0.17[/td][/tr][tr][td]76[/td][td]Apprentice[/td][td]7.8[/td][td]Rats[/td][td]0.30[/td][td]Fortress[/td][td]0.16[/td][td]Gardens[/td][td]-0.13[/td][/tr][tr][td]77[/td][td]Envoy[/td][td]7.7[/td][td]Inn[/td][td]0.14[/td][td]Worker's Village[/td][td]0.09[/td][td]Nomad Camp[/td][td]-0.14[/td][/tr][tr][td]78[/td][td]Horn of Plenty[/td][td]7.7[/td][td]Spy[/td][td]0.16[/td][td]Journeyman[/td][td]0.15[/td][td]Workshop[/td][td]-0.05[/td][/tr][tr][td]79[/td][td]Stash[/td][td]7.7[/td][td]Envoy[/td][td]0.15[/td][td]Scavenger[/td][td]0.13[/td][td]Market[/td][td]-0.11[/td][/tr][tr][td]80[/td][td]Hermit[/td][td]7.7[/td][td]Market Square[/td][td]0.12[/td][td]Wishing Well[/td][td]0.11[/td][td]Sea Hag[/td][td]-0.17[/td][/tr][tr][td]81[/td][td]Stables[/td][td]7.6[/td][td]University[/td][td]0.11[/td][td]Altar[/td][td]0.09[/td][td]Mystic[/td][td]-0.16[/td][/tr][tr][td]82[/td][td]Trader[/td][td]7.6[/td][td]Feodum[/td][td]0.38[/td][td]Duke[/td][td]0.11[/td][td]Sea Hag[/td][td]-0.18[/td][/tr][tr][td]83[/td][td]Quarry[/td][td]7.5[/td][td]Market[/td][td]0.16[/td][td]Forge[/td][td]0.15[/td][td]Trader[/td][td]-0.09[/td][/tr][tr][td]84[/td][td]Crossroads[/td][td]7.5[/td][td]Torturer[/td][td]0.17[/td][td]Great Hall[/td][td]0.14[/td][td]Native Village[/td][td]-0.14[/td][/tr][tr][td]85[/td][td]Alchemist[/td][td]7.4[/td][td]Possession[/td][td]0.22[/td][td]Transmute[/td][td]0.17[/td][td]Smithy[/td][td]-0.12[/td][/tr][tr][td]86[/td][td]Tactician[/td][td]7.4[/td][td]Storeroom[/td][td]0.18[/td][td]Secret Chamber[/td][td]0.16[/td][td]Soothsayer[/td][td]-0.11[/td][/tr][tr][td]87[/td][td]Peddler[/td][td]7.4[/td][td]Worker's Village[/td][td]0.13[/td][td]Salvager[/td][td]0.12[/td][td]Fool's Gold[/td][td]-0.09[/td][/tr][tr][td]88[/td][td]Monument[/td][td]7.4[/td][td]Golem[/td][td]0.12[/td][td]Band of Misfits[/td][td]0.10[/td][td]Scavenger[/td][td]-0.16[/td][/tr][tr][td]89[/td][td]Menagerie[/td][td]7.3[/td][td]Ironworks[/td][td]0.14[/td][td]Outpost[/td][td]0.13[/td][td]Envoy[/td][td]-0.12[/td][/tr][tr][td]90[/td][td]Ruins[/td][td]7.3[/td][td]Fairgrounds[/td][td]0.09[/td][td]Watchtower[/td][td]0.09[/td][td]Baron[/td][td]-0.12[/td][/tr][tr][td]91[/td][td]Haggler[/td][td]7.1[/td][td]Mining Village[/td][td]0.14[/td][td]Spy[/td][td]0.13[/td][td]Rogue[/td][td]-0.11[/td][/tr][tr][td]92[/td][td]Count[/td][td]7.0[/td][td]Duke[/td][td]0.18[/td][td]Grand Market[/td][td]0.05[/td][td]Trading Post[/td][td]-0.16[/td][/tr][tr][td]93[/td][td]Candlestick Maker[/td][td]7.0[/td][td]Vineyard[/td][td]0.16[/td][td]Peddler[/td][td]0.12[/td][td]Pawn[/td][td]-0.21[/td][/tr][tr][td]94[/td][td]Ironworks[/td][td]7.0[/td][td]Silk Road[/td][td]0.23[/td][td]Gardens[/td][td]0.21[/td][td]Armory[/td][td]-0.19[/td][/tr][tr][td]95[/td][td]Merchant Guild[/td][td]6.9[/td][td]Quarry[/td][td]0.10[/td][td]Golem[/td][td]0.09[/td][td]Nomad Camp[/td][td]-0.12[/td][/tr][tr][td]96[/td][td]Embargo[/td][td]6.9[/td][td]Stash[/td][td]0.11[/td][td]Venture[/td][td]0.10[/td][td]Pawn[/td][td]-0.11[/td][/tr][tr][td]97[/td][td]Golem[/td][td]6.9[/td][td]Apothecary[/td][td]0.17[/td][td]Saboteur[/td][td]0.12[/td][td]Throne Room[/td][td]-0.07[/td][/tr][tr][td]98[/td][td]Throne Room[/td][td]6.8[/td][td]Armory[/td][td]0.13[/td][td]Band of Misfits[/td][td]0.13[/td][td]Mining Village[/td][td]-0.08[/td][/tr][tr][td]99[/td][td]Procession[/td][td]6.8[/td][td]Adventurer[/td][td]0.17[/td][td]Catacombs[/td][td]0.15[/td][td]Horn of Plenty[/td][td]-0.06[/td][/tr][tr][td]100[/td][td]Apothecary[/td][td]6.7[/td][td]Possession[/td][td]0.20[/td][td]Golem[/td][td]0.19[/td][td]Loan[/td][td]-0.11[/td][/tr][tr][td]101[/td][td]Altar[/td][td]6.7[/td][td]Stash[/td][td]0.16[/td][td]Mystic[/td][td]0.16[/td][td]Expand[/td][td]-0.10[/td][/tr][tr][td]102[/td][td]Spice Merchant[/td][td]6.7[/td][td]Fool's Gold[/td][td]0.11[/td][td]Market Square[/td][td]0.09[/td][td]Moneylender[/td][td]-0.24[/td][/tr][tr][td]103[/td][td]Militia[/td][td]6.6[/td][td]Band of Misfits[/td][td]0.12[/td][td]Lighthouse[/td][td]0.11[/td][td]Cutpurse[/td][td]-0.18[/td][/tr][tr][td]104[/td][td]Counterfeit[/td][td]6.6[/td][td]Fool's Gold[/td][td]0.10[/td][td]Envoy[/td][td]0.10[/td][td]Loan[/td][td]-0.14[/td][/tr][tr][td]105[/td][td]Ghost Ship[/td][td]6.6[/td][td]Farming Village[/td][td]0.14[/td][td]Lighthouse[/td][td]0.13[/td][td]Militia[/td][td]-0.11[/td][/tr][tr][td]106[/td][td]Feodum[/td][td]6.6[/td][td]Masterpiece[/td][td]0.41[/td][td]Trader[/td][td]0.30[/td][td]Throne Room[/td][td]-0.10[/td][/tr][tr][td]107[/td][td]Market[/td][td]6.5[/td][td]Quarry[/td][td]0.19[/td][td]Conspirator[/td][td]0.11[/td][td]Band of Misfits[/td][td]-0.10[/td][/tr][tr][td]108[/td][td]Horse Traders[/td][td]6.4[/td][td]Tunnel[/td][td]0.11[/td][td]Gardens[/td][td]0.10[/td][td]Nomad Camp[/td][td]-0.15[/td][/tr][tr][td]109[/td][td]Warehouse[/td][td]6.4[/td][td]Tunnel[/td][td]0.17[/td][td]Treasure Map[/td][td]0.12[/td][td]Oasis[/td][td]-0.18[/td][/tr][tr][td]110[/td][td]Rabble[/td][td]6.3[/td][td]University[/td][td]0.12[/td][td]Village[/td][td]0.12[/td][td]Library[/td][td]-0.10[/td][/tr][tr][td]111[/td][td]Shanty Town[/td][td]6.3[/td][td]Rabble[/td][td]0.14[/td][td]Council Room[/td][td]0.13[/td][td]Wishing Well[/td][td]-0.12[/td][/tr][tr][td]112[/td][td]Doctor[/td][td]6.3[/td][td]Venture[/td][td]0.09[/td][td]Merchant Ship[/td][td]0.08[/td][td]Lookout[/td][td]-0.20[/td][/tr][tr][td]113[/td][td]Jester[/td][td]6.3[/td][td]Spy[/td][td]0.09[/td][td]Native Village[/td][td]0.08[/td][td]Rogue[/td][td]-0.12[/td][/tr][tr][td]114[/td][td]Watchtower[/td][td]6.2[/td][td]Festival[/td][td]0.13[/td][td]Rats[/td][td]0.11[/td][td]Oracle[/td][td]-0.11[/td][/tr][tr][td]115[/td][td]Nobles[/td][td]6.2[/td][td]Quarry[/td][td]0.20[/td][td]Trade Route[/td][td]0.13[/td][td]Harem[/td][td]-0.14[/td][/tr][tr][td]116[/td][td]Courtyard[/td][td]6.2[/td][td]Worker's Village[/td][td]0.08[/td][td]Bandit Camp[/td][td]0.07[/td][td]Pearl Diver[/td][td]-0.17[/td][/tr][tr][td]117[/td][td]Moneylender[/td][td]6.2[/td][td]Venture[/td][td]0.09[/td][td]Stash[/td][td]0.09[/td][td]Cutpurse[/td][td]-0.14[/td][/tr][tr][td]118[/td][td]Inn[/td][td]6.1[/td][td]Torturer[/td][td]0.13[/td][td]Hunting Grounds[/td][td]0.13[/td][td]Cartographer[/td][td]-0.10[/td][/tr][tr][td]119[/td][td]Vault[/td][td]6.1[/td][td]Grand Market[/td][td]0.10[/td][td]Tunnel[/td][td]0.09[/td][td]Envoy[/td][td]-0.12[/td][/tr][tr][td]120[/td][td]Lookout[/td][td]6.1[/td][td]Mystic[/td][td]0.09[/td][td]Treasure Map[/td][td]0.09[/td][td]Loan[/td][td]-0.18[/td][/tr][tr][td]121[/td][td]Silk Road[/td][td]6.0[/td][td]Workshop[/td][td]0.16[/td][td]Baron[/td][td]0.14[/td][td]Laboratory[/td][td]-0.08[/td][/tr][tr][td]122[/td][td]Hoard[/td][td]5.9[/td][td]Harem[/td][td]0.13[/td][td]Silk Road[/td][td]0.12[/td][td]Conspirator[/td][td]-0.09[/td][/tr][tr][td]123[/td][td]Smugglers[/td][td]5.9[/td][td]Apprentice[/td][td]0.10[/td][td]Duke[/td][td]0.09[/td][td]Workshop[/td][td]-0.07[/td][/tr][tr][td]124[/td][td]Vagrant[/td][td]5.9[/td][td]Vineyard[/td][td]0.09[/td][td]Harem[/td][td]0.08[/td][td]Pearl Diver[/td][td]-0.24[/td][/tr][tr][td]125[/td][td]Trading Post[/td][td]5.9[/td][td]Feodum[/td][td]0.12[/td][td]Grand Market[/td][td]0.10[/td][td]Altar[/td][td]-0.11[/td][/tr][tr][td]126[/td][td]Possession[/td][td]5.9[/td][td]Apothecary[/td][td]0.20[/td][td]Alchemist[/td][td]0.17[/td][td]Conspirator[/td][td]-0.09[/td][/tr][tr][td]127[/td][td]Island[/td][td]5.8[/td][td]Ironworks[/td][td]0.20[/td][td]Hoard[/td][td]0.10[/td][td]Remodel[/td][td]-0.11[/td][/tr][tr][td]128[/td][td]Haven[/td][td]5.7[/td][td]Envoy[/td][td]0.10[/td][td]Treasure Map[/td][td]0.08[/td][td]Pearl Diver[/td][td]-0.21[/td][/tr][tr][td]129[/td][td]Forge[/td][td]5.7[/td][td]Rats[/td][td]0.12[/td][td]Catacombs[/td][td]0.10[/td][td]Gardens[/td][td]-0.11[/td][/tr][tr][td]130[/td][td]Beggar[/td][td]5.7[/td][td]Gardens[/td][td]0.25[/td][td]Counting House[/td][td]0.13[/td][td]Fortress[/td][td]-0.08[/td][/tr][tr][td]131[/td][td]Journeyman[/td][td]5.7[/td][td]Horn of Plenty[/td][td]0.07[/td][td]Bank[/td][td]0.07[/td][td]Council Room[/td][td]-0.12[/td][/tr][tr][td]132[/td][td]Masterpiece[/td][td]5.6[/td][td]Feodum[/td][td]0.32[/td][td]Gardens[/td][td]0.15[/td][td]Cellar[/td][td]-0.08[/td][/tr][tr][td]133[/td][td]Remodel[/td][td]5.6[/td][td]Rats[/td][td]0.14[/td][td]Fool's Gold[/td][td]0.13[/td][td]Horn of Plenty[/td][td]-0.08[/td][/tr][tr][td]134[/td][td]Stonemason[/td][td]5.5[/td][td]Catacombs[/td][td]0.10[/td][td]Feodum[/td][td]0.09[/td][td]Altar[/td][td]-0.07[/td][/tr][tr][td]135[/td][td]Cellar[/td][td]5.5[/td][td]Tunnel[/td][td]0.12[/td][td]Bureaucrat[/td][td]0.08[/td][td]Pearl Diver[/td][td]-0.15[/td][/tr][tr][td]136[/td][td]Smithy[/td][td]5.5[/td][td]Festival[/td][td]0.09[/td][td]Village[/td][td]0.09[/td][td]Envoy[/td][td]-0.18[/td][/tr][tr][td]137[/td][td]Workshop[/td][td]5.4[/td][td]Gardens[/td][td]0.15[/td][td]Silk Road[/td][td]0.13[/td][td]Stonemason[/td][td]-0.08[/td][/tr][tr][td]138[/td][td]Feast[/td][td]5.4[/td][td]Stash[/td][td]0.09[/td][td]Witch[/td][td]0.07[/td][td]Fortress[/td][td]-0.07[/td][/tr][tr][td]139[/td][td]Storeroom[/td][td]5.2[/td][td]Tunnel[/td][td]0.12[/td][td]Tactician[/td][td]0.10[/td][td]Woodcutter[/td][td]-0.11[/td][/tr][tr][td]140[/td][td]Pawn[/td][td]5.2[/td][td]Vineyard[/td][td]0.11[/td][td]Stash[/td][td]0.09[/td][td]Pearl Diver[/td][td]-0.19[/td][/tr][tr][td]141[/td][td]Catacombs[/td][td]5.2[/td][td]University[/td][td]0.10[/td][td]Bank[/td][td]0.08[/td][td]Journeyman[/td][td]-0.13[/td][/tr][tr][td]142[/td][td]Scheme[/td][td]5.2[/td][td]Conspirator[/td][td]0.12[/td][td]Armory[/td][td]0.09[/td][td]Wishing Well[/td][td]-0.16[/td][/tr][tr][td]143[/td][td]Nomad Camp[/td][td]5.2[/td][td]Golem[/td][td]0.09[/td][td]Highway[/td][td]0.07[/td][td]Woodcutter[/td][td]-0.10[/td][/tr][tr][td]144[/td][td]Rats[/td][td]5.2[/td][td]Apprentice[/td][td]0.14[/td][td]Butcher[/td][td]0.14[/td][td]Spice Merchant[/td][td]-0.07[/td][/tr][tr][td]145[/td][td]Expand[/td][td]5.2[/td][td]Rats[/td][td]0.09[/td][td]Marauder[/td][td]0.08[/td][td]Bank[/td][td]-0.09[/td][/tr][tr][td]146[/td][td]Library[/td][td]5.2[/td][td]Festival[/td][td]0.09[/td][td]University[/td][td]0.09[/td][td]Envoy[/td][td]-0.10[/td][/tr][tr][td]147[/td][td]Armory[/td][td]5.2[/td][td]Advisor[/td][td]0.12[/td][td]Vineyard[/td][td]0.12[/td][td]Workshop[/td][td]-0.12[/td][/tr][tr][td]148[/td][td]Venture[/td][td]5.1[/td][td]Altar[/td][td]0.09[/td][td]Bank[/td][td]0.08[/td][td]Graverobber[/td][td]-0.10[/td][/tr][tr][td]149[/td][td]Trade Route[/td][td]5.1[/td][td]Band of Misfits[/td][td]0.08[/td][td]Scrying Pool[/td][td]0.07[/td][td]Develop[/td][td]-0.11[/td][/tr][tr][td]150[/td][td]Baron[/td][td]5.0[/td][td]Silk Road[/td][td]0.10[/td][td]Cartographer[/td][td]0.07[/td][td]Nomad Camp[/td][td]-0.11[/td][/tr][tr][td]151[/td][td]Treasury[/td][td]5.0[/td][td]University[/td][td]0.09[/td][td]Expand[/td][td]0.08[/td][td]Mystic[/td][td]-0.10[/td][/tr][tr][td]152[/td][td]Hunting Grounds[/td][td]5.0[/td][td]Native Village[/td][td]0.10[/td][td]Worker's Village[/td][td]0.09[/td][td]Council Room[/td][td]-0.09[/td][/tr][tr][td]153[/td][td]Sage[/td][td]5.0[/td][td]Trader[/td][td]0.07[/td][td]Golem[/td][td]0.07[/td][td]Wishing Well[/td][td]-0.11[/td][/tr][tr][td]154[/td][td]Advisor[/td][td]4.9[/td][td]Armory[/td][td]0.19[/td][td]Ironworks[/td][td]0.14[/td][td]Spy[/td][td]-0.09[/td][/tr][tr][td]155[/td][td]Scavenger[/td][td]4.9[/td][td]Stash[/td][td]0.20[/td][td]Lookout[/td][td]0.07[/td][td]Navigator[/td][td]-0.12[/td][/tr][tr][td]156[/td][td]Council Room[/td][td]4.9[/td][td]Bank[/td][td]0.11[/td][td]Village[/td][td]0.09[/td][td]Library[/td][td]-0.07[/td][/tr][tr][td]157[/td][td]Wishing Well[/td][td]4.9[/td][td]Mystic[/td][td]0.08[/td][td]Horn of Plenty[/td][td]0.07[/td][td]Sage[/td][td]-0.10[/td][/tr][tr][td]158[/td][td]Moat[/td][td]4.9[/td][td]Harem[/td][td]0.07[/td][td]Festival[/td][td]0.07[/td][td]Pawn[/td][td]-0.10[/td][/tr][tr][td]159[/td][td]Develop[/td][td]4.9[/td][td]Rats[/td][td]0.15[/td][td]Poor House[/td][td]0.13[/td][td]Envoy[/td][td]-0.10[/td][/tr][tr][td]160[/td][td]Oasis[/td][td]4.8[/td][td]Tunnel[/td][td]0.13[/td][td]Soothsayer[/td][td]0.07[/td][td]Wishing Well[/td][td]-0.12[/td][/tr][tr][td]161[/td][td]Woodcutter[/td][td]4.8[/td][td]Ill-Gotten Gains[/td][td]0.08[/td][td]Gardens[/td][td]0.08[/td][td]Baron[/td][td]-0.06[/td][/tr][tr][td]162[/td][td]Pirate Ship[/td][td]4.8[/td][td]Oasis[/td][td]0.10[/td][td]Merchant Ship[/td][td]0.08[/td][td]Envoy[/td][td]-0.12[/td][/tr][tr][td]163[/td][td]Adventurer[/td][td]4.8[/td][td]Stash[/td][td]0.08[/td][td]Venture[/td][td]0.08[/td][td]Peddler[/td][td]-0.06[/td][/tr][tr][td]164[/td][td]Cutpurse[/td][td]4.7[/td][td]Hoard[/td][td]0.08[/td][td]Band of Misfits[/td][td]0.07[/td][td]Navigator[/td][td]-0.09[/td][/tr][tr][td]165[/td][td]Great Hall[/td][td]4.7[/td][td]Ironworks[/td][td]0.19[/td][td]Silk Road[/td][td]0.13[/td][td]Sage[/td][td]-0.10[/td][/tr][tr][td]166[/td][td]Talisman[/td][td]4.7[/td][td]Feodum[/td][td]0.11[/td][td]Highway[/td][td]0.09[/td][td]Smugglers[/td][td]-0.07[/td][/tr][tr][td]167[/td][td]Taxman[/td][td]4.7[/td][td]Harem[/td][td]0.09[/td][td]Soothsayer[/td][td]0.08[/td][td]Moneylender[/td][td]-0.08[/td][/tr][tr][td]168[/td][td]Bureaucrat[/td][td]4.6[/td][td]Feodum[/td][td]0.11[/td][td]Duke[/td][td]0.09[/td][td]Vineyard[/td][td]-0.06[/td][/tr][tr][td]169[/td][td]Secret Chamber[/td][td]4.6[/td][td]Stash[/td][td]0.09[/td][td]Tactician[/td][td]0.08[/td][td]Poor House[/td][td]-0.07[/td][/tr][tr][td]170[/td][td]Herbalist[/td][td]4.6[/td][td]Philosopher's Stone[/td][td]0.14[/td][td]Stash[/td][td]0.09[/td][td]Moat[/td][td]-0.07[/td][/tr][tr][td]171[/td][td]Cache[/td][td]4.6[/td][td]Monument[/td][td]0.07[/td][td]Young Witch[/td][td]0.07[/td][td]Conspirator[/td][td]-0.07[/td][/tr][tr][td]172[/td][td]Loan[/td][td]4.6[/td][td]Venture[/td][td]0.08[/td][td]Baker[/td][td]0.07[/td][td]Oracle[/td][td]-0.07[/td][/tr][tr][td]173[/td][td]Mystic[/td][td]4.6[/td][td]Altar[/td][td]0.08[/td][td]Rebuild[/td][td]0.07[/td][td]Tribute[/td][td]-0.10[/td][/tr][tr][td]174[/td][td]Band of Misfits[/td][td]4.6[/td][td]Duke[/td][td]0.07[/td][td]Margrave[/td][td]0.06[/td][td]Bishop[/td][td]-0.10[/td][/tr][tr][td]175[/td][td]Mint[/td][td]4.5[/td][td]Fool's Gold[/td][td]0.08[/td][td]Harem[/td][td]0.06[/td][td]Trading Post[/td][td]-0.08[/td][/tr][tr][td]176[/td][td]Transmute[/td][td]4.5[/td][td]Trader[/td][td]0.08[/td][td]Apothecary[/td][td]0.08[/td][td]Stash[/td][td]-0.06[/td][/tr][tr][td]177[/td][td]Thief[/td][td]4.5[/td][td]Venture[/td][td]0.10[/td][td]Familiar[/td][td]0.08[/td][td]Stonemason[/td][td]-0.07[/td][/tr][tr][td]178[/td][td]Harem[/td][td]4.5[/td][td]Silk Road[/td][td]0.13[/td][td]Hoard[/td][td]0.09[/td][td]Ironworks[/td][td]-0.07[/td][/tr][tr][td]179[/td][td]Farmland[/td][td]4.5[/td][td]Trader[/td][td]0.09[/td][td]Silk Road[/td][td]0.07[/td][td]Band of Misfits[/td][td]-0.06[/td][/tr][tr][td]180[/td][td]Philosopher's Stone[/td][td]4.4[/td][td]Herbalist[/td][td]0.14[/td][td]Duke[/td][td]0.09[/td][td]Throne Room[/td][td]-0.11[/td][/tr][tr][td]181[/td][td]Mine[/td][td]4.4[/td][td]Harem[/td][td]0.09[/td][td]Catacombs[/td][td]0.08[/td][td]Band of Misfits[/td][td]-0.05[/td][/tr][tr][td]182[/td][td]Bank[/td][td]4.4[/td][td]Venture[/td][td]0.12[/td][td]Tactician[/td][td]0.07[/td][td]Vineyard[/td][td]-0.07[/td][/tr][tr][td]183[/td][td]Harvest[/td][td]4.4[/td][td]Hoard[/td][td]0.07[/td][td]Duke[/td][td]0.07[/td][td]Highway[/td][td]-0.05[/td][/tr][tr][td]184[/td][td]Chancellor[/td][td]4.4[/td][td]Envoy[/td][td]0.10[/td][td]Stash[/td][td]0.10[/td][td]Quarry[/td][td]-0.04[/td][/tr][tr][td]185[/td][td]Cartographer[/td][td]4.4[/td][td]Tunnel[/td][td]0.12[/td][td]Moneylender[/td][td]0.06[/td][td]Bazaar[/td][td]-0.09[/td][/tr][tr][td]186[/td][td]Oracle[/td][td]4.4[/td][td]Ill-Gotten Gains[/td][td]0.09[/td][td]Venture[/td][td]0.07[/td][td]Fortune Teller[/td][td]-0.09[/td][/tr][tr][td]187[/td][td]Rogue[/td][td]4.3[/td][td]Soothsayer[/td][td]0.08[/td][td]Doctor[/td][td]0.07[/td][td]Candlestick Maker[/td][td]-0.07[/td][/tr][tr][td]188[/td][td]Pearl Diver[/td][td]4.3[/td][td]Cartographer[/td][td]0.07[/td][td]Jester[/td][td]0.07[/td][td]Lighthouse[/td][td]-0.09[/td][/tr][tr][td]189[/td][td]Noble Brigand[/td][td]4.3[/td][td]Beggar[/td][td]0.09[/td][td]Venture[/td][td]0.07[/td][td]Ironworks[/td][td]-0.05[/td][/tr][tr][td]190[/td][td]Duchess[/td][td]4.3[/td][td]Stash[/td][td]0.12[/td][td]Venture[/td][td]0.07[/td][td]Workshop[/td][td]-0.08[/td][/tr][tr][td]191[/td][td]Contraband[/td][td]4.3[/td][td]Expand[/td][td]0.09[/td][td]Envoy[/td][td]0.08[/td][td]Festival[/td][td]-0.06[/td][/tr][tr][td]192[/td][td]Spy[/td][td]4.3[/td][td]Doctor[/td][td]0.08[/td][td]Golem[/td][td]0.07[/td][td]Quarry[/td][td]-0.07[/td][/tr][tr][td]193[/td][td]Outpost[/td][td]4.3[/td][td]Trading Post[/td][td]0.07[/td][td]Navigator[/td][td]0.07[/td][td]Horn of Plenty[/td][td]-0.05[/td][/tr][tr][td]194[/td][td]Saboteur[/td][td]4.3[/td][td]Embargo[/td][td]0.07[/td][td]Sage[/td][td]0.07[/td][td]Armory[/td][td]-0.07[/td][/tr][tr][td]195[/td][td]Royal Seal[/td][td]4.2[/td][td]Cartographer[/td][td]0.08[/td][td]Venture[/td][td]0.07[/td][td]Stash[/td][td]-0.07[/td][/tr][tr][td]196[/td][td]Navigator[/td][td]4.2[/td][td]Tunnel[/td][td]0.08[/td][td]Farmland[/td][td]0.08[/td][td]Oasis[/td][td]-0.07[/td][/tr][tr][td]197[/td][td]Tribute[/td][td]4.2[/td][td]Ghost Ship[/td][td]0.09[/td][td]Familiar[/td][td]0.07[/td][td]Pillage[/td][td]-0.05[/td][/tr][tr][td]198[/td][td]Treasure Map[/td][td]4.2[/td][td]Chapel[/td][td]0.07[/td][td]Sea Hag[/td][td]0.07[/td][td]Throne Room[/td][td]-0.08[/td][/tr][tr][td]199[/td][td]Death Cart[/td][td]4.1[/td][td]Rats[/td][td]0.11[/td][td]Band of Misfits[/td][td]0.07[/td][td]Nomad Camp[/td][td]-0.08[/td][/tr][tr][td]200[/td][td]Scout[/td][td]4.1[/td][td]Harem[/td][td]0.08[/td][td]Band of Misfits[/td][td]0.07[/td][td]Quarry[/td][td]-0.06[/td][/tr][tr][td]201[/td][td]Counting House[/td][td]4.1[/td][td]Beggar[/td][td]0.10[/td][td]Treasury[/td][td]0.08[/td][td]Tactician[/td][td]-0.05[/td][/tr][tr][td]202[/td][td]Poor House[/td][td]4.1[/td][td]Vault[/td][td]0.09[/td][td]Island[/td][td]0.06[/td][td]Remake[/td][td]-0.09[/td][/tr][tr][td]203[/td][td]Mandarin[/td][td]4.0[/td][td]Mint[/td][td]0.07[/td][td]Familiar[/td][td]0.07[/td][td]Envoy[/td][td]-0.07[/td][/tr][tr][td]204[/td][td]Fortune Teller[/td][td]4.0[/td][td]Ill-Gotten Gains[/td][td]0.07[/td][td]Mystic[/td][td]0.06[/td][td]Poor House[/td][td]-0.05[/td][/tr][tr][td]205[/td][td]Merchant Ship[/td][td]4.0[/td][td]Marauder[/td][td]0.06[/td][td]Inn[/td][td]0.06[/td][td]Harvest[/td][td]-0.06[/td][/tr][tr][td]206[/td][td]Coppersmith[/td][td]3.9[/td][td]Apothecary[/td][td]0.07[/td][td]Council Room[/td][td]0.06[/td][td]Quarry[/td][td]-0.07[/td][/tr][tr][td]207[/td][td]Pillage[/td][td]3.9[/td][td]Alchemist[/td][td]0.08[/td][td]Hoard[/td][td]0.06[/td][td]Saboteur[/td][td]-0.06[/td][/tr][tr][td]208[/td][td]Graverobber[/td][td]3.9[/td][td]Rats[/td][td]0.08[/td][td]Marauder[/td][td]0.07[/td][td]Possession[/td][td]-0.06[/td][/tr][tr][td]209[/td][td]Explorer[/td][td]3.9[/td][td]Duke[/td][td]0.07[/td][td]Silk Road[/td][td]0.06[/td][td]Envoy[/td][td]-0.08[/td][/tr][tr][td]210[/td][td]Potion[/td][td]3.2[/td][td]Herbalist[/td][td]0.08[/td][td]Woodcutter[/td][td]0.07[/td][td]Quarry[/td][td]-0.04[/td][/tr][/tr][/table]\n"
     ]
    }
   ],
   "source": [
    "#make a table that can be posted to f.ds\n",
    "table_string = '[table][tr][td]Rank[/td][td]Card[/td][td]Synergy Factor[/td][td]Top synergy[/td][td]          [/td][td]2nd synergy[/td][td]          [/td][td]Top anti-synergy[/td][td]          [/td][/tr]\\n'\n",
    "for i in range(len(cards_sorted_syn)):\n",
    "    table_string += '[tr][td]%i[/td][td]%s[/td][td]%.1f[/td]' % (i+1,cards_sorted_syn[i],sorted_syn[i])\n",
    "    table_string += '[td]%s[/td][td]%.2f[/td][td]%s[/td][td]%.2f[/td][td]%s[/td][td]%.2f[/td][/tr]' % (syn_card_1[i],syn_factor_1[i],syn_card_2[i],syn_factor_2[i],syn_card_3[i],syn_factor_3[i])\n",
    "    #table_string += '[td]%.2f[/td][td]%s[/td][td]%.2f[/td][td]%s[/td][td]%.2f[/td][td]%s[/td][/tr]' % (syn_factor_1[i],syn_card_1[i],syn_factor_2[i],syn_card_2[i],syn_factor_3[i],syn_card_3[i])\n",
    "table_string += '[/tr][/table]'\n",
    "print(table_string)"
   ]
  },
  {
   "cell_type": "markdown",
   "metadata": {},
   "source": [
    "# Streamlining analysis\n",
    "I created a python module that streamlines all the above calculations.  I will run it again, and then save the output to a csv file."
   ]
  },
  {
   "cell_type": "code",
   "execution_count": 17,
   "metadata": {
    "collapsed": false
   },
   "outputs": [],
   "source": [
    "#reload module\n",
    "import sys\n",
    "if 'analysis_functions' in sys.modules:\n",
    "    del sys.modules['analysis_functions']\n",
    "from analysis_functions import *"
   ]
  },
  {
   "cell_type": "code",
   "execution_count": 10,
   "metadata": {
    "collapsed": false
   },
   "outputs": [
    {
     "data": {
      "text/html": [
       "<div>\n",
       "<style scoped>\n",
       "    .dataframe tbody tr th:only-of-type {\n",
       "        vertical-align: middle;\n",
       "    }\n",
       "\n",
       "    .dataframe tbody tr th {\n",
       "        vertical-align: top;\n",
       "    }\n",
       "\n",
       "    .dataframe thead th {\n",
       "        text-align: right;\n",
       "    }\n",
       "</style>\n",
       "<table border=\"1\" class=\"dataframe\">\n",
       "  <thead>\n",
       "    <tr style=\"text-align: right;\">\n",
       "      <th></th>\n",
       "      <th>Card</th>\n",
       "      <th>metric</th>\n",
       "    </tr>\n",
       "    <tr>\n",
       "      <th>Rank</th>\n",
       "      <th></th>\n",
       "      <th></th>\n",
       "    </tr>\n",
       "  </thead>\n",
       "  <tbody>\n",
       "    <tr>\n",
       "      <th>1</th>\n",
       "      <td>Rebuild</td>\n",
       "      <td>2.973071</td>\n",
       "    </tr>\n",
       "    <tr>\n",
       "      <th>2</th>\n",
       "      <td>Mountebank</td>\n",
       "      <td>2.550012</td>\n",
       "    </tr>\n",
       "    <tr>\n",
       "      <th>3</th>\n",
       "      <td>Goons</td>\n",
       "      <td>2.459193</td>\n",
       "    </tr>\n",
       "    <tr>\n",
       "      <th>4</th>\n",
       "      <td>Cultist</td>\n",
       "      <td>2.425984</td>\n",
       "    </tr>\n",
       "    <tr>\n",
       "      <th>5</th>\n",
       "      <td>Ill-Gotten Gains</td>\n",
       "      <td>2.378828</td>\n",
       "    </tr>\n",
       "  </tbody>\n",
       "</table>\n",
       "</div>"
      ],
      "text/plain": [
       "                  Card    metric\n",
       "Rank                            \n",
       "1              Rebuild  2.973071\n",
       "2           Mountebank  2.550012\n",
       "3                Goons  2.459193\n",
       "4              Cultist  2.425984\n",
       "5     Ill-Gotten Gains  2.378828"
      ]
     },
     "execution_count": 10,
     "metadata": {},
     "output_type": "execute_result"
    }
   ],
   "source": [
    "impact = get_impact()\n",
    "impact.head()"
   ]
  },
  {
   "cell_type": "code",
   "execution_count": 13,
   "metadata": {
    "collapsed": false
   },
   "outputs": [
    {
     "data": {
      "text/html": [
       "<div>\n",
       "<style scoped>\n",
       "    .dataframe tbody tr th:only-of-type {\n",
       "        vertical-align: middle;\n",
       "    }\n",
       "\n",
       "    .dataframe tbody tr th {\n",
       "        vertical-align: top;\n",
       "    }\n",
       "\n",
       "    .dataframe thead th {\n",
       "        text-align: right;\n",
       "    }\n",
       "</style>\n",
       "<table border=\"1\" class=\"dataframe\">\n",
       "  <thead>\n",
       "    <tr style=\"text-align: right;\">\n",
       "      <th></th>\n",
       "      <th>Card</th>\n",
       "      <th>metric</th>\n",
       "    </tr>\n",
       "    <tr>\n",
       "      <th>Rank</th>\n",
       "      <th></th>\n",
       "      <th></th>\n",
       "    </tr>\n",
       "  </thead>\n",
       "  <tbody>\n",
       "    <tr>\n",
       "      <th>1</th>\n",
       "      <td>Rebuild</td>\n",
       "      <td>25.800888</td>\n",
       "    </tr>\n",
       "    <tr>\n",
       "      <th>2</th>\n",
       "      <td>Chapel</td>\n",
       "      <td>16.934039</td>\n",
       "    </tr>\n",
       "    <tr>\n",
       "      <th>3</th>\n",
       "      <td>JackOfAllTrades</td>\n",
       "      <td>16.902519</td>\n",
       "    </tr>\n",
       "    <tr>\n",
       "      <th>4</th>\n",
       "      <td>Governor</td>\n",
       "      <td>16.836481</td>\n",
       "    </tr>\n",
       "    <tr>\n",
       "      <th>5</th>\n",
       "      <td>Cultist</td>\n",
       "      <td>16.624026</td>\n",
       "    </tr>\n",
       "  </tbody>\n",
       "</table>\n",
       "</div>"
      ],
      "text/plain": [
       "                 Card     metric\n",
       "Rank                            \n",
       "1             Rebuild  25.800888\n",
       "2              Chapel  16.934039\n",
       "3     JackOfAllTrades  16.902519\n",
       "4            Governor  16.836481\n",
       "5             Cultist  16.624026"
      ]
     },
     "execution_count": 13,
     "metadata": {},
     "output_type": "execute_result"
    }
   ],
   "source": [
    "synergy = get_synergy()\n",
    "synergy.head()"
   ]
  },
  {
   "cell_type": "code",
   "execution_count": 14,
   "metadata": {
    "collapsed": false
   },
   "outputs": [
    {
     "data": {
      "text/html": [
       "<div>\n",
       "<style scoped>\n",
       "    .dataframe tbody tr th:only-of-type {\n",
       "        vertical-align: middle;\n",
       "    }\n",
       "\n",
       "    .dataframe tbody tr th {\n",
       "        vertical-align: top;\n",
       "    }\n",
       "\n",
       "    .dataframe thead th {\n",
       "        text-align: right;\n",
       "    }\n",
       "</style>\n",
       "<table border=\"1\" class=\"dataframe\">\n",
       "  <thead>\n",
       "    <tr style=\"text-align: right;\">\n",
       "      <th></th>\n",
       "      <th>Card</th>\n",
       "      <th>metric</th>\n",
       "    </tr>\n",
       "    <tr>\n",
       "      <th>Rank</th>\n",
       "      <th></th>\n",
       "      <th></th>\n",
       "    </tr>\n",
       "  </thead>\n",
       "  <tbody>\n",
       "    <tr>\n",
       "      <th>1</th>\n",
       "      <td>Ill-Gotten Gains</td>\n",
       "      <td>11.836082</td>\n",
       "    </tr>\n",
       "    <tr>\n",
       "      <th>2</th>\n",
       "      <td>Rebuild</td>\n",
       "      <td>11.754391</td>\n",
       "    </tr>\n",
       "    <tr>\n",
       "      <th>3</th>\n",
       "      <td>Cultist</td>\n",
       "      <td>11.517386</td>\n",
       "    </tr>\n",
       "    <tr>\n",
       "      <th>4</th>\n",
       "      <td>Governor</td>\n",
       "      <td>11.509131</td>\n",
       "    </tr>\n",
       "    <tr>\n",
       "      <th>5</th>\n",
       "      <td>Mountebank</td>\n",
       "      <td>11.335032</td>\n",
       "    </tr>\n",
       "  </tbody>\n",
       "</table>\n",
       "</div>"
      ],
      "text/plain": [
       "                  Card     metric\n",
       "Rank                             \n",
       "1     Ill-Gotten Gains  11.836082\n",
       "2              Rebuild  11.754391\n",
       "3              Cultist  11.517386\n",
       "4             Governor  11.509131\n",
       "5           Mountebank  11.335032"
      ]
     },
     "execution_count": 14,
     "metadata": {},
     "output_type": "execute_result"
    }
   ],
   "source": [
    "#also, calculate the \"total gains\" impact factor\n",
    "num_games, game_gains, total_gains, card_list, card_dict = init_data()\n",
    "card_weights = get_card_weights(card_list,card_dict)\n",
    "card_impact_alt = calculate_impact(total_gains,num_games,card_weights,card_dict)\n",
    "impact_alt = sort_metric( card_impact_alt, card_list, card_dict )\n",
    "impact_alt.head()"
   ]
  },
  {
   "cell_type": "code",
   "execution_count": 16,
   "metadata": {
    "collapsed": false
   },
   "outputs": [],
   "source": [
    "impact.to_csv('impact_rankings.csv')\n",
    "synergy.to_csv('Synergy_rankings.csv')\n",
    "impact_alt.to_csv('total_gain_impact_rankings.csv')"
   ]
  },
  {
   "cell_type": "code",
   "execution_count": null,
   "metadata": {
    "collapsed": true
   },
   "outputs": [],
   "source": []
  }
 ],
 "metadata": {
  "anaconda-cloud": {},
  "kernelspec": {
   "display_name": "Python [Root]",
   "language": "python",
   "name": "Python [Root]"
  },
  "language_info": {
   "codemirror_mode": {
    "name": "ipython",
    "version": 3
   },
   "file_extension": ".py",
   "mimetype": "text/x-python",
   "name": "python",
   "nbconvert_exporter": "python",
   "pygments_lexer": "ipython3",
   "version": "3.5.5"
  }
 },
 "nbformat": 4,
 "nbformat_minor": 0
}
