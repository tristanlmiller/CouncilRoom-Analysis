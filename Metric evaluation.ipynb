{
 "cells": [
  {
   "cell_type": "markdown",
   "metadata": {},
   "source": [
    "# Metric evaluation\n",
    "The goal of this notebook is to evaluate Impact factor vs other metrics as a way of modeling card strength.  Card strength is approximated by the [Qvist rankings](http://wiki.dominionstrategy.com/index.php/List_of_Cards_by_Qvist_Rankings), which are based on community voting."
   ]
  },
  {
   "cell_type": "code",
   "execution_count": 230,
   "metadata": {
    "collapsed": false
   },
   "outputs": [],
   "source": [
    "#packages\n",
    "import os\n",
    "import re\n",
    "import pdb\n",
    "import numpy as np\n",
    "import pickle\n",
    "import time\n",
    "import pandas as pd\n",
    "from bs4 import BeautifulSoup\n",
    "from urllib import request as rq\n",
    "import matplotlib.pyplot as plt"
   ]
  },
  {
   "cell_type": "markdown",
   "metadata": {},
   "source": [
    "## Scraping Qvist rankings"
   ]
  },
  {
   "cell_type": "code",
   "execution_count": 3,
   "metadata": {
    "collapsed": false
   },
   "outputs": [],
   "source": [
    "wiki = \"http://wiki.dominionstrategy.com/index.php/List_of_Cards_by_Qvist_Rankings\"\n",
    "page = rq.urlopen(wiki)\n",
    "soup = BeautifulSoup(page,\"lxml\")"
   ]
  },
  {
   "cell_type": "code",
   "execution_count": 174,
   "metadata": {
    "collapsed": true
   },
   "outputs": [],
   "source": [
    "#get list of tables\n",
    "tables = soup.findAll(\"table\", { \"class\" : \"wikitable sortable\" })"
   ]
  },
  {
   "cell_type": "code",
   "execution_count": 175,
   "metadata": {
    "collapsed": true
   },
   "outputs": [],
   "source": [
    "#get list of card names and make a dataFrame\n",
    "cardNames = []\n",
    "for table in tables:\n",
    "    cardRows = table.findAll(\"tr\")[1:]\n",
    "    for i in range(len(cardRows)):\n",
    "        cardNames.append(cardRows[i].findAll(\"td\")[0].get_text().strip())\n",
    "\n",
    "qvist = pd.DataFrame({'Card': cardNames})"
   ]
  },
  {
   "cell_type": "code",
   "execution_count": 176,
   "metadata": {
    "collapsed": false
   },
   "outputs": [],
   "source": [
    "#get ranking data, ignoring the +/- columns\n",
    "qvist['Set'] = ''\n",
    "qvist['Category'] = ''\n",
    "categories = ['0-2 cost','3 cost','4 cost','5 cost','6+ cost','Potion cost','Ruins','Knights','Prizes','Landmarks','Events','Projects','Boons','Hexes']\n",
    "\n",
    "curr_index = 0\n",
    "for k in range(len(tables)):\n",
    "    rows = tables[k].findAll(\"tr\")\n",
    "    colTitles = rows[0].findAll(\"th\")\n",
    "    isYear = [False]*len(colTitles)\n",
    "    for i in range(len(colTitles)):\n",
    "        colTitles[i] = colTitles[i].string.strip()\n",
    "        \n",
    "        #If the column is a year, and not already in the data frame, add it.\n",
    "        m = re.match(\"(20\\d\\d)\",colTitles[i])\n",
    "        if(m):\n",
    "            isYear[i] = True\n",
    "            if colTitles[i] not in qvist.columns:\n",
    "                qvist[colTitles[i]] = np.nan\n",
    "    \n",
    "    #go through each row and add the ranking data\n",
    "    for j in range(1,len(rows)):\n",
    "        cells = rows[j].findAll(\"td\")\n",
    "        cardName = cells[0].get_text().strip()\n",
    "        qvist.iloc[curr_index,qvist.columns.get_loc('Category')] = categories[k]\n",
    "        for i in range(len(colTitles)):\n",
    "            if(isYear[i]):\n",
    "                try:\n",
    "                    rank = int(cells[i].get_text().strip())\n",
    "                    qvist.iloc[curr_index,qvist.columns.get_loc(colTitles[i])] = rank\n",
    "                except ValueError:\n",
    "                    pass\n",
    "            if colTitles[i] == 'Release':\n",
    "                qvist.iloc[curr_index,qvist.columns.get_loc('Set')] = cells[i].get_text().strip()\n",
    "        curr_index += 1"
   ]
  },
  {
   "cell_type": "code",
   "execution_count": 177,
   "metadata": {
    "collapsed": false
   },
   "outputs": [
    {
     "data": {
      "text/html": [
       "<div>\n",
       "<style scoped>\n",
       "    .dataframe tbody tr th:only-of-type {\n",
       "        vertical-align: middle;\n",
       "    }\n",
       "\n",
       "    .dataframe tbody tr th {\n",
       "        vertical-align: top;\n",
       "    }\n",
       "\n",
       "    .dataframe thead th {\n",
       "        text-align: right;\n",
       "    }\n",
       "</style>\n",
       "<table border=\"1\" class=\"dataframe\">\n",
       "  <thead>\n",
       "    <tr style=\"text-align: right;\">\n",
       "      <th></th>\n",
       "      <th>Card</th>\n",
       "      <th>Set</th>\n",
       "      <th>Category</th>\n",
       "      <th>2011</th>\n",
       "      <th>2012</th>\n",
       "      <th>2013</th>\n",
       "      <th>2014</th>\n",
       "      <th>2015</th>\n",
       "      <th>2016</th>\n",
       "      <th>2017</th>\n",
       "      <th>2018</th>\n",
       "    </tr>\n",
       "  </thead>\n",
       "  <tbody>\n",
       "    <tr>\n",
       "      <th>0</th>\n",
       "      <td>Peasant</td>\n",
       "      <td>Adventures</td>\n",
       "      <td>0-2 cost</td>\n",
       "      <td>NaN</td>\n",
       "      <td>NaN</td>\n",
       "      <td>NaN</td>\n",
       "      <td>NaN</td>\n",
       "      <td>3.0</td>\n",
       "      <td>3.0</td>\n",
       "      <td>2.0</td>\n",
       "      <td>1.0</td>\n",
       "    </tr>\n",
       "    <tr>\n",
       "      <th>1</th>\n",
       "      <td>Chapel</td>\n",
       "      <td>Base</td>\n",
       "      <td>0-2 cost</td>\n",
       "      <td>1.0</td>\n",
       "      <td>1.0</td>\n",
       "      <td>1.0</td>\n",
       "      <td>1.0</td>\n",
       "      <td>1.0</td>\n",
       "      <td>1.0</td>\n",
       "      <td>1.0</td>\n",
       "      <td>2.0</td>\n",
       "    </tr>\n",
       "    <tr>\n",
       "      <th>2</th>\n",
       "      <td>Page</td>\n",
       "      <td>Adventures</td>\n",
       "      <td>0-2 cost</td>\n",
       "      <td>NaN</td>\n",
       "      <td>NaN</td>\n",
       "      <td>NaN</td>\n",
       "      <td>NaN</td>\n",
       "      <td>2.0</td>\n",
       "      <td>2.0</td>\n",
       "      <td>3.0</td>\n",
       "      <td>3.0</td>\n",
       "    </tr>\n",
       "    <tr>\n",
       "      <th>3</th>\n",
       "      <td>Encampment</td>\n",
       "      <td>Empires</td>\n",
       "      <td>0-2 cost</td>\n",
       "      <td>NaN</td>\n",
       "      <td>NaN</td>\n",
       "      <td>NaN</td>\n",
       "      <td>NaN</td>\n",
       "      <td>NaN</td>\n",
       "      <td>12.0</td>\n",
       "      <td>5.0</td>\n",
       "      <td>4.0</td>\n",
       "    </tr>\n",
       "    <tr>\n",
       "      <th>4</th>\n",
       "      <td>Monastery</td>\n",
       "      <td>Nocturne</td>\n",
       "      <td>0-2 cost</td>\n",
       "      <td>NaN</td>\n",
       "      <td>NaN</td>\n",
       "      <td>NaN</td>\n",
       "      <td>NaN</td>\n",
       "      <td>NaN</td>\n",
       "      <td>NaN</td>\n",
       "      <td>4.0</td>\n",
       "      <td>5.0</td>\n",
       "    </tr>\n",
       "  </tbody>\n",
       "</table>\n",
       "</div>"
      ],
      "text/plain": [
       "         Card         Set  Category  2011  2012  2013  2014  2015  2016  2017  \\\n",
       "0     Peasant  Adventures  0-2 cost   NaN   NaN   NaN   NaN   3.0   3.0   2.0   \n",
       "1      Chapel        Base  0-2 cost   1.0   1.0   1.0   1.0   1.0   1.0   1.0   \n",
       "2        Page  Adventures  0-2 cost   NaN   NaN   NaN   NaN   2.0   2.0   3.0   \n",
       "3  Encampment     Empires  0-2 cost   NaN   NaN   NaN   NaN   NaN  12.0   5.0   \n",
       "4   Monastery    Nocturne  0-2 cost   NaN   NaN   NaN   NaN   NaN   NaN   4.0   \n",
       "\n",
       "   2018  \n",
       "0   1.0  \n",
       "1   2.0  \n",
       "2   3.0  \n",
       "3   4.0  \n",
       "4   5.0  "
      ]
     },
     "execution_count": 177,
     "metadata": {},
     "output_type": "execute_result"
    }
   ],
   "source": [
    "qvist.head()"
   ]
  },
  {
   "cell_type": "code",
   "execution_count": 178,
   "metadata": {
    "collapsed": true
   },
   "outputs": [],
   "source": [
    "#save as csv\n",
    "qvist.to_csv('qvist_rankings.csv')"
   ]
  },
  {
   "cell_type": "markdown",
   "metadata": {},
   "source": [
    "## Procedure for evaluating a metric\n",
    "To evaluate a metric, the idea is to calculate the correlation coefficient when one ranking is plotted against another.  However, there's a complication: the Qvist rankings are broken up into several lists.  So the idea is to calculate the correlation coefficient for each list, and calculate an average weighted by the number of cards in each list.\n",
    "\n",
    "Another minor complication is that the format of the rankings files is a bit different, but that's easy to address."
   ]
  },
  {
   "cell_type": "code",
   "execution_count": 203,
   "metadata": {
    "collapsed": true
   },
   "outputs": [],
   "source": [
    "impact = pd.read_csv('impact_rankings.csv')\n",
    "qvist = pd.read_csv('qvist_rankings.csv')"
   ]
  },
  {
   "cell_type": "code",
   "execution_count": 180,
   "metadata": {
    "collapsed": false
   },
   "outputs": [
    {
     "name": "stdout",
     "output_type": "stream",
     "text": [
      "['JackOfAllTrades', 'Colony', 'Platinum', 'Ruins', 'Potion', 'Copper', 'Duchy', 'Silver', 'Gold', 'Curse', 'Province', 'Estate']\n"
     ]
    }
   ],
   "source": [
    "#first, we need to make sure that the spelling of each card is consistent in the two databases\n",
    "#so let's find any cards in the impact rankings which are not present in the qvist rankings\n",
    "oddities = []\n",
    "for card in impact['Card']:\n",
    "    if(not any(qvist['Card'] == card)):\n",
    "        oddities.append(card)\n",
    "print(oddities)"
   ]
  },
  {
   "cell_type": "code",
   "execution_count": 204,
   "metadata": {
    "collapsed": true
   },
   "outputs": [],
   "source": [
    "#the non-kingdom cards don't really matter, but the spelling of Jack of all Trades must be corrected\n",
    "def correct_rankings(ranking):\n",
    "    joat_index = np.where(impact['Card'] == 'JackOfAllTrades')[0][0]\n",
    "    ranking.loc[joat_index,'Card'] = 'Jack of all Trades'\n",
    "    #non_kingdom_cards = ['Colony', 'Platinum', 'Ruins', 'Potion', 'Copper', 'Duchy', 'Silver', 'Gold', 'Curse', 'Province', 'Estate']\n",
    "    #for card in non_kingdom_cards:\n",
    "    #    index = np.where(impact['Card'] == card)[0][0]\n",
    "    #    ranking = ranking.drop(index)\n",
    "    return ranking"
   ]
  },
  {
   "cell_type": "code",
   "execution_count": 205,
   "metadata": {
    "collapsed": false
   },
   "outputs": [],
   "source": [
    "impact = correct_rankings(impact)"
   ]
  },
  {
   "cell_type": "code",
   "execution_count": 228,
   "metadata": {
    "collapsed": false
   },
   "outputs": [],
   "source": [
    "#Now, let's take a look at the 0-2 cost rankings for 2014\n",
    "#my intention is to code this into a more general function after testing\n",
    "category = '0-2 cost'\n",
    "year = '2014'\n",
    "metric = impact\n",
    "\n",
    "#take the relevant subset of qvist rankings\n",
    "qvist_compare = qvist[np.logical_and(qvist['Category'] == category,np.logical_not(np.isnan(qvist[year])))]\n",
    "qvist_compare.reset_index(inplace=True,drop=True)\n",
    "\n",
    "#we only care about the cards that overlap with our impact data set\n",
    "overlap = [card in metric['Card'].tolist() for card in qvist_compare['Card']]\n",
    "\n",
    "#the overlap is 100% for 2014, but might have some false values in other cases\n",
    "qvist_compare = qvist_compare[overlap]\n",
    "qvist_compare.reset_index(inplace=True,drop=True)\n",
    "\n",
    "#next we take the relevant subset of the metric-based rankings\n",
    "overlap = [card in qvist_compare['Card'].tolist() for card in metric['Card']]\n",
    "metric_compare = metric[overlap]\n",
    "metric_compare.reset_index(inplace=True,drop=True)\n",
    "\n",
    "#now join this with qvist rankings\n",
    "qvist_compare['Metric ranking'] = np.nan\n",
    "for i,card in zip(qvist_compare.index,qvist_compare['Card']):\n",
    "    qvist_compare.loc[i,'Metric ranking'] = np.where(metric_compare['Card'] == card)[0][0]+1\n",
    "    "
   ]
  },
  {
   "cell_type": "code",
   "execution_count": 231,
   "metadata": {
    "collapsed": false
   },
   "outputs": [],
   "source": [
    "#it would be nice to have a quick plot the qvist rankings against the impact rankings\n",
    "%matplotlib inline"
   ]
  },
  {
   "cell_type": "code",
   "execution_count": 237,
   "metadata": {
    "collapsed": false
   },
   "outputs": [
    {
     "data": {
      "text/plain": [
       "<matplotlib.collections.PathCollection at 0xbfef9e8>"
      ]
     },
     "execution_count": 237,
     "metadata": {},
     "output_type": "execute_result"
    },
    {
     "data": {
      "image/png": "[encoded data removed]",
      "text/plain": [
       "<matplotlib.figure.Figure at 0x88cc5f8>"
      ]
     },
     "metadata": {},
     "output_type": "display_data"
    }
   ],
   "source": [
    "plt.scatter(qvist_compare['Metric ranking'], qvist_compare['2014'])"
   ]
  },
  {
   "cell_type": "code",
   "execution_count": null,
   "metadata": {
    "collapsed": true
   },
   "outputs": [],
   "source": [
    "#next, let's generalize it to any category"
   ]
  },
  {
   "cell_type": "code",
   "execution_count": 258,
   "metadata": {
    "collapsed": false
   },
   "outputs": [],
   "source": [
    "#reload module\n",
    "import sys\n",
    "if 'analysis_functions' in sys.modules:\n",
    "    del sys.modules['analysis_functions']\n",
    "from analysis_functions import *"
   ]
  },
  {
   "cell_type": "code",
   "execution_count": 250,
   "metadata": {
    "collapsed": false
   },
   "outputs": [
    {
     "data": {
      "text/plain": [
       "<matplotlib.collections.PathCollection at 0xe44c6a0>"
      ]
     },
     "execution_count": 250,
     "metadata": {},
     "output_type": "execute_result"
    },
    {
     "data": {
      "image/png": "[encoded data removed]",
      "text/plain": [
       "<matplotlib.figure.Figure at 0xd42a278>"
      ]
     },
     "metadata": {},
     "output_type": "display_data"
    }
   ],
   "source": [
    "qvist_compare = compare_to_qvist(impact,qvist,'5 cost','2014')\n",
    "plt.scatter(qvist_compare['Metric ranking'], qvist_compare['2014'])"
   ]
  },
  {
   "cell_type": "code",
   "execution_count": 252,
   "metadata": {
    "collapsed": false
   },
   "outputs": [
    {
     "data": {
      "text/plain": [
       "0.8966704936854193"
      ]
     },
     "execution_count": 252,
     "metadata": {},
     "output_type": "execute_result"
    }
   ],
   "source": [
    "#calculate correlation coefficient\n",
    "np.corrcoef(qvist_compare['Metric ranking'], qvist_compare['2014'])[0,1]"
   ]
  },
  {
   "cell_type": "code",
   "execution_count": 259,
   "metadata": {
    "collapsed": false
   },
   "outputs": [
    {
     "data": {
      "text/plain": [
       "0.8633299948314384"
      ]
     },
     "execution_count": 259,
     "metadata": {},
     "output_type": "execute_result"
    }
   ],
   "source": [
    "#Now calculate a weighted average of the correlation coefficient for all categories\n",
    "#well not quite all categories, just the important ones.  Don't care about ruins or knights\n",
    "score_metric(impact,qvist,'2014')"
   ]
  },
  {
   "cell_type": "markdown",
   "metadata": {},
   "source": [
    "## Comparing different metrics\n",
    "I want to compare 4 different metrics.  The first three are the impact factor, synergy factor, and an alternative version of impact factor that looks at total number of gains instead of gain frequency.  The last metric is simply gain percentage (which is the most commonly used metric by the Dominion community).  My intuition is that impact factor is the best one, but we'll find out!"
   ]
  },
  {
   "cell_type": "code",
   "execution_count": 264,
   "metadata": {
    "collapsed": false
   },
   "outputs": [],
   "source": [
    "#I haven't calculated the gain percentages yet, but those are easy enough\n",
    "num_games, game_gains, total_gains, card_list, card_dict = init_data()\n",
    "gain_prc = [game_gains[i,i]/num_games[i,i] for i in range(game_gains.shape[0])]\n",
    "gain_prc_sorted = sort_metric( gain_prc, card_list, card_dict )\n",
    "gain_prc_sorted.to_csv('gain_percentage_rankings.csv')"
   ]
  },
  {
   "cell_type": "code",
   "execution_count": 276,
   "metadata": {
    "collapsed": true
   },
   "outputs": [],
   "source": [
    "#reload module\n",
    "import sys\n",
    "if 'analysis_functions' in sys.modules:\n",
    "    del sys.modules['analysis_functions']\n",
    "from analysis_functions import *"
   ]
  },
  {
   "cell_type": "code",
   "execution_count": 273,
   "metadata": {
    "collapsed": true
   },
   "outputs": [],
   "source": [
    "#load files\n",
    "impact = pd.read_csv('impact_rankings.csv')\n",
    "impact_alt = pd.read_csv('total_gain_impact_rankings.csv')\n",
    "synergy = pd.read_csv('synergy_rankings.csv')\n",
    "gain_prc = pd.read_csv('gain_percentage_rankings.csv')\n",
    "qvist = pd.read_csv('qvist_rankings.csv')"
   ]
  },
  {
   "cell_type": "code",
   "execution_count": 274,
   "metadata": {
    "collapsed": false
   },
   "outputs": [],
   "source": [
    "impact = correct_rankings(impact)\n",
    "impact_alt = correct_rankings(impact_alt)\n",
    "synergy = correct_rankings(synergy)\n",
    "gain_prc = correct_rankings(gain_prc)"
   ]
  },
  {
   "cell_type": "code",
   "execution_count": 281,
   "metadata": {
    "collapsed": false
   },
   "outputs": [],
   "source": [
    "def print_scores(year):\n",
    "    print('Year %s' % year)\n",
    "    print('Impact score:')\n",
    "    print(score_metric(impact,qvist,year))\n",
    "    print('Total gain impact score:')\n",
    "    print(score_metric(impact_alt,qvist,year))\n",
    "    print('Synergy score:')\n",
    "    print(score_metric(synergy,qvist,year))\n",
    "    print('Gain percentage score:')\n",
    "    print(score_metric(gain_prc,qvist,year))"
   ]
  },
  {
   "cell_type": "code",
   "execution_count": 282,
   "metadata": {
    "collapsed": false
   },
   "outputs": [
    {
     "name": "stdout",
     "output_type": "stream",
     "text": [
      "Year 2014\n",
      "Impact score:\n",
      "0.8633299948314384\n",
      "Total gain impact score:\n",
      "0.7934680519693003\n",
      "Synergy score:\n",
      "0.8272227241081889\n",
      "Gain percentage score:\n",
      "0.8461272092107612\n"
     ]
    }
   ],
   "source": [
    "print_scores('2014')"
   ]
  },
  {
   "cell_type": "markdown",
   "metadata": {},
   "source": [
    "Yup!  The impact rankings are very slightly better than the gain percentage rankings!\n",
    "\n",
    "Just for fun, let's calculate the scores for other years."
   ]
  },
  {
   "cell_type": "code",
   "execution_count": 283,
   "metadata": {
    "collapsed": false
   },
   "outputs": [
    {
     "name": "stdout",
     "output_type": "stream",
     "text": [
      "Year 2013\n",
      "Impact score:\n",
      "0.8083565654479714\n",
      "Total gain impact score:\n",
      "0.754636086206295\n",
      "Synergy score:\n",
      "0.7680147239715113\n",
      "Gain percentage score:\n",
      "0.7866440041567063\n"
     ]
    }
   ],
   "source": [
    "print_scores('2013')"
   ]
  },
  {
   "cell_type": "code",
   "execution_count": 289,
   "metadata": {
    "collapsed": false
   },
   "outputs": [
    {
     "name": "stdout",
     "output_type": "stream",
     "text": [
      "Year 2015\n",
      "Impact score:\n",
      "0.8350122890218269\n",
      "Total gain impact score:\n",
      "0.760897602988807\n",
      "Synergy score:\n",
      "0.7982946266768716\n",
      "Gain percentage score:\n",
      "0.8401618917603081\n"
     ]
    }
   ],
   "source": [
    "print_scores('2015')"
   ]
  },
  {
   "cell_type": "code",
   "execution_count": null,
   "metadata": {
    "collapsed": true
   },
   "outputs": [],
   "source": []
  }
 ],
 "metadata": {
  "anaconda-cloud": {},
  "kernelspec": {
   "display_name": "Python [Anaconda3]",
   "language": "python",
   "name": "Python [Anaconda3]"
  },
  "language_info": {
   "codemirror_mode": {
    "name": "ipython",
    "version": 3
   },
   "file_extension": ".py",
   "mimetype": "text/x-python",
   "name": "python",
   "nbconvert_exporter": "python",
   "pygments_lexer": "ipython3",
   "version": "3.5.5"
  }
 },
 "nbformat": 4,
 "nbformat_minor": 0
}
